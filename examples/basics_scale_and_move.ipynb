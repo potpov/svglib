{
 "cells": [
  {
   "cell_type": "markdown",
   "metadata": {},
   "source": [
    "# Place SVG shapes into canvas given bounding boxes "
   ]
  },
  {
   "cell_type": "code",
   "execution_count": 1,
   "metadata": {},
   "outputs": [],
   "source": [
    "import json\n",
    "import sys\n",
    "import os\n",
    "from PIL import Image, ImageDraw"
   ]
  },
  {
   "cell_type": "code",
   "execution_count": 2,
   "metadata": {},
   "outputs": [],
   "source": [
    "# import the library\n",
    "root_dir = os.path.abspath(os.path.join(os.getcwd(), \"..\"))\n",
    "sys.path.append(root_dir)\n",
    "\n",
    "from svglib.svg import SVG\n",
    "from svglib.geom import Point"
   ]
  },
  {
   "cell_type": "code",
   "execution_count": 3,
   "metadata": {},
   "outputs": [],
   "source": [
    "def show(svg_img):\n",
    "    white_bg = Image.new(\"RGBA\", (128, 128), \"WHITE\")\n",
    "    white_bg.paste(\n",
    "        svg_img.draw(return_png=True, do_display=False), \n",
    "        (0, 0), \n",
    "        svg_img.draw(return_png=True, do_display=False)\n",
    "        ) \n",
    "    white_bg.convert(\"RGB\").show()"
   ]
  },
  {
   "cell_type": "code",
   "execution_count": 4,
   "metadata": {},
   "outputs": [],
   "source": [
    "sample_dir = os.path.join(root_dir, \"samples\")\n",
    "# a dict that tells you where to place a series of SVGs in a canvas \n",
    "coords = {\n",
    "    \"house_body\": {\n",
    "      \"file\": \"square_lines.svg\",\n",
    "      \"bounding_box\": [20, 50, 100, 120]\n",
    "    },\n",
    "    \"window_1\": {\n",
    "      \"file\": \"square_lines.svg\",\n",
    "      \"bounding_box\": [35, 70, 55, 90]\n",
    "    },\n",
    "    \"window_2\": {\n",
    "      \"file\": \"square_lines.svg\",\n",
    "      \"bounding_box\": [70, 70, 90, 90]\n",
    "    },\n",
    "    \"roof\": {\n",
    "      \"file\": \"triangle.svg\",\n",
    "      \"bounding_box\": [20, 5, 100, 50]\n",
    "    }\n",
    "  }\n",
    "  "
   ]
  },
  {
   "cell_type": "markdown",
   "metadata": {},
   "source": [
    "## Destination Coordinates\n",
    "We start from a series of SVG shapes and the bounding box of the location where each has to fit.\n",
    "\n",
    "We draw each bounding box on a raster image to get an idea of where all the SVGs should go"
   ]
  },
  {
   "cell_type": "code",
   "execution_count": 5,
   "metadata": {},
   "outputs": [
    {
     "data": {
      "image/jpeg": "[encoded data removed]",
      "image/png": "[encoded data removed]",
      "text/plain": [
       "<PIL.Image.Image image mode=RGB size=128x128>"
      ]
     },
     "execution_count": 5,
     "metadata": {},
     "output_type": "execute_result"
    }
   ],
   "source": [
    "def draw_bboxes(coords):\n",
    "    img = Image.new('RGB', (128, 128), color='white')\n",
    "    draw = ImageDraw.Draw(img)\n",
    "    for _, c in coords.items():\n",
    "        x, y, x2, y2 = c['bounding_box']\n",
    "        draw.rectangle([x, y, x2, y2], outline=\"black\", fill=None)\n",
    "    return img\n",
    "\n",
    "draw_bboxes(coords)"
   ]
  },
  {
   "cell_type": "markdown",
   "metadata": {},
   "source": [
    "## Scaling Factor\n",
    "Each SVG should be scaled to fit its bounding box.\n",
    "\n",
    "By defaul we consider the full size of each original SVG image (128, 128)"
   ]
  },
  {
   "cell_type": "code",
   "execution_count": 6,
   "metadata": {},
   "outputs": [
    {
     "name": "stdout",
     "output_type": "stream",
     "text": [
      "0.625 0.3515625\n"
     ]
    }
   ],
   "source": [
    "# let's take the first square, and scale it to fit its bounding box in the canvas\n",
    "def compute_scale(x1, y1, x2, y2, orig_w=128, orig_h=128):\n",
    "    new_w, new_h = (x2 - x1, y2 - y1)  # the size of the bounding box\n",
    "    width_ratio = new_w / orig_w\n",
    "    height_ratio = new_h / orig_h\n",
    "    return width_ratio, height_ratio\n",
    "\n",
    "(x1, y1, x2, y2) = coords[\"roof\"][\"bounding_box\"]\n",
    "width_ratio, height_ratio = compute_scale(x1, y1, x2, y2)\n",
    "print(width_ratio, height_ratio)\n",
    "scale_factor = min(width_ratio, height_ratio)\n"
   ]
  },
  {
   "cell_type": "markdown",
   "metadata": {},
   "source": [
    "## display one SVG"
   ]
  },
  {
   "cell_type": "code",
   "execution_count": 7,
   "metadata": {},
   "outputs": [
    {
     "data": {
      "image/jpeg": "[encoded data removed]",
      "image/png": "[encoded data removed]",
      "text/plain": [
       "<PIL.Image.Image image mode=RGB size=128x128>"
      ]
     },
     "metadata": {},
     "output_type": "display_data"
    },
    {
     "data": {
      "text/plain": [
       "SVG[Bbox(0.0 0.0 128.0 128.0)](\n",
       "\tSVGLine(xy1=P(64.0, 10.0) xy2=P(110.0, 110.0)),\n",
       "\tSVGLine(xy1=P(110.0, 110.0) xy2=P(18.0, 110.0)),\n",
       "\tSVGLine(xy1=P(18.0, 110.0) xy2=P(64.0, 10.0))\n",
       ")"
      ]
     },
     "execution_count": 7,
     "metadata": {},
     "output_type": "execute_result"
    }
   ],
   "source": [
    "svg_path = os.path.join(sample_dir, coords[\"roof\"][\"file\"])\n",
    "svg = SVG.load_svg(svg_path)\n",
    "show(svg)\n",
    "svg"
   ]
  },
  {
   "cell_type": "markdown",
   "metadata": {},
   "source": [
    "## Scale and Shift\n",
    "Since the scaling factors sx and sy between original image and destination bounding box\n",
    "are not the same, we use minimum scale factor to avoid overflow."
   ]
  },
  {
   "cell_type": "code",
   "execution_count": 8,
   "metadata": {},
   "outputs": [
    {
     "data": {
      "image/jpeg": "[encoded data removed]",
      "image/png": "[encoded data removed]",
      "text/plain": [
       "<PIL.Image.Image image mode=RGB size=128x128>"
      ]
     },
     "metadata": {},
     "output_type": "display_data"
    }
   ],
   "source": [
    "# scaling\n",
    "svg.scale(scale_factor)\n",
    "show(svg)"
   ]
  },
  {
   "cell_type": "code",
   "execution_count": 9,
   "metadata": {},
   "outputs": [
    {
     "data": {
      "image/jpeg": "[encoded data removed]",
      "image/png": "[encoded data removed]",
      "text/plain": [
       "<PIL.Image.Image image mode=RGB size=128x128>"
      ]
     },
     "metadata": {},
     "output_type": "display_data"
    },
    {
     "data": {
      "image/jpeg": "[encoded data removed]",
      "image/png": "[encoded data removed]",
      "text/plain": [
       "<PIL.Image.Image image mode=RGB size=128x128>"
      ]
     },
     "metadata": {},
     "output_type": "display_data"
    }
   ],
   "source": [
    "# let's adjust the shape so that the new center is the center of the bounding box\n",
    "svg.translate(-svg.viewbox.center)\n",
    "show(svg)\n",
    "\n",
    "target_center = Point((x1 + x2) // 2, (y1 + y2) // 2)\n",
    "svg.translate(target_center)\n",
    "show(svg)\n"
   ]
  },
  {
   "cell_type": "markdown",
   "metadata": {},
   "source": [
    "## Apply to all shapes and composite!"
   ]
  },
  {
   "cell_type": "code",
   "execution_count": 10,
   "metadata": {},
   "outputs": [
    {
     "data": {
      "image/jpeg": "[encoded data removed]",
      "image/png": "[encoded data removed]",
      "text/plain": [
       "<PIL.Image.Image image mode=RGB size=128x128>"
      ]
     },
     "metadata": {},
     "output_type": "display_data"
    }
   ],
   "source": [
    "# apply this to every shape in the SVG file\n",
    "composite = SVG([], (128, 128), width=128, height=128)\n",
    "\n",
    "for shape in coords.values():\n",
    "    svg_path = os.path.join(sample_dir, shape[\"file\"])\n",
    "    svg = SVG.load_svg(svg_path)\n",
    "    \n",
    "    (x1, y1, x2, y2) = shape[\"bounding_box\"]\n",
    "    width_ratio, height_ratio = compute_scale(x1, y1, x2, y2)\n",
    "    scale_factor = min(width_ratio, height_ratio)\n",
    "    target_center = Point((x1 + x2) // 2, (y1 + y2) // 2)\n",
    "    \n",
    "    svg.scale(scale_factor)\n",
    "    svg.translate(-svg.viewbox.center)\n",
    "    svg.translate(target_center)\n",
    "    composite = composite + svg \n",
    "    \n",
    "show(composite)"
   ]
  },
  {
   "cell_type": "markdown",
   "metadata": {},
   "source": [
    "## Use both (sx, sy) to scale\n",
    "That is not nice. Now we will use a scaling factor for each dimension, even if it stretches the final image."
   ]
  },
  {
   "cell_type": "code",
   "execution_count": 11,
   "metadata": {},
   "outputs": [
    {
     "data": {
      "image/jpeg": "[encoded data removed]",
      "image/png": "[encoded data removed]",
      "text/plain": [
       "<PIL.Image.Image image mode=RGB size=128x128>"
      ]
     },
     "metadata": {},
     "output_type": "display_data"
    }
   ],
   "source": [
    "composite = SVG([], (128, 128), width=128, height=128)\n",
    "for shape in coords.values():\n",
    "    svg_path = os.path.join(sample_dir, shape[\"file\"])\n",
    "    svg = SVG.load_svg(svg_path)\n",
    "    \n",
    "    (x1, y1, x2, y2) = shape[\"bounding_box\"]\n",
    "    width_ratio, height_ratio = compute_scale(x1, y1, x2, y2)\n",
    "    target_center = Point((x1 + x2) // 2, (y1 + y2) // 2)\n",
    "    \n",
    "    svg.scale((width_ratio, height_ratio))\n",
    "    svg.translate(-svg.viewbox.center)\n",
    "    svg.translate(target_center)\n",
    "    composite = composite + svg \n",
    "    \n",
    "show(composite)"
   ]
  },
  {
   "cell_type": "markdown",
   "metadata": {},
   "source": [
    "## Use the bounding box of the shape\n",
    "We inherit some padding from the original image!\n",
    "\n",
    "Let's compute (sx, sy) using the bounding box that wraps each shape to get the best scaling ratio"
   ]
  },
  {
   "cell_type": "code",
   "execution_count": 12,
   "metadata": {},
   "outputs": [
    {
     "data": {
      "text/plain": [
       "((31.25, 8.015625), (88.75, 43.171875))"
      ]
     },
     "execution_count": 12,
     "metadata": {},
     "output_type": "execute_result"
    }
   ],
   "source": [
    "svg.bbox()"
   ]
  },
  {
   "cell_type": "code",
   "execution_count": 13,
   "metadata": {},
   "outputs": [
    {
     "data": {
      "image/jpeg": "[encoded data removed]",
      "image/png": "[encoded data removed]",
      "text/plain": [
       "<PIL.Image.Image image mode=RGB size=128x128>"
      ]
     },
     "metadata": {},
     "output_type": "display_data"
    }
   ],
   "source": [
    "def composite(coords):\n",
    "    composite = SVG([], (128, 128), width=128, height=128)\n",
    "    for shape in coords.values():\n",
    "        svg_path = os.path.join(sample_dir, shape[\"file\"])\n",
    "        svg = SVG.load_svg(svg_path)\n",
    "        \n",
    "        (x1, y1, x2, y2) = shape[\"bounding_box\"]\n",
    "        (_x1, _y1), (_x2, _y2) = svg.bbox()\n",
    "        \n",
    "        # compute width and height for the box rather than the full image\n",
    "        _w, _h = _x2 - _x1, _y2 - _y1\n",
    "        width_ratio, height_ratio = compute_scale(x1, y1, x2, y2, _w, _h)\n",
    "\n",
    "        target_center = Point((x1 + x2) // 2, (y1 + y2) // 2)\n",
    "        \n",
    "        svg.scale((width_ratio, height_ratio))\n",
    "        svg.translate(-svg.viewbox.center)\n",
    "        svg.translate(target_center)\n",
    "        composite = composite + svg \n",
    "    return composite\n",
    "\n",
    "result = composite(coords)\n",
    "show(result)"
   ]
  },
  {
   "cell_type": "markdown",
   "metadata": {},
   "source": [
    "# More examples: A car"
   ]
  },
  {
   "cell_type": "code",
   "execution_count": 14,
   "metadata": {},
   "outputs": [
    {
     "data": {
      "image/jpeg": "[encoded data removed]",
      "image/png": "[encoded data removed]",
      "text/plain": [
       "<PIL.Image.Image image mode=RGB size=128x128>"
      ]
     },
     "execution_count": 14,
     "metadata": {},
     "output_type": "execute_result"
    }
   ],
   "source": [
    "coords = {\n",
    "    \"car_body\": {\n",
    "        \"file\": \"square_lines.svg\",\n",
    "        \"bounding_box\": [20, 60, 108, 100]  # Main car body\n",
    "    },\n",
    "    \"car_top\": {\n",
    "        \"file\": \"square_lines.svg\",\n",
    "        \"bounding_box\": [40, 30, 88, 60]  # Smaller top section (like a windshield/cabin)\n",
    "    },\n",
    "    \"wheel_1\": {\n",
    "        \"file\": \"circle.svg\",\n",
    "        \"bounding_box\": [30, 90, 50, 110]  # Left wheel\n",
    "    },\n",
    "    \"wheel_2\": {\n",
    "        \"file\": \"circle.svg\",\n",
    "        \"bounding_box\": [80, 90, 100, 110]  # Right wheel\n",
    "    },\n",
    "    \"front_window\": {\n",
    "        \"file\": \"square_lines.svg\",\n",
    "        \"bounding_box\": [50, 35, 65, 55]  # Front windshield\n",
    "    },\n",
    "    \"rear_window\": {\n",
    "        \"file\": \"square_lines.svg\",\n",
    "        \"bounding_box\": [65, 35, 80, 55]  # Rear windshield\n",
    "    }\n",
    "}\n",
    "draw_bboxes(coords)\n"
   ]
  },
  {
   "cell_type": "code",
   "execution_count": 15,
   "metadata": {},
   "outputs": [
    {
     "data": {
      "image/jpeg": "[encoded data removed]",
      "image/png": "[encoded data removed]",
      "text/plain": [
       "<PIL.Image.Image image mode=RGB size=128x128>"
      ]
     },
     "metadata": {},
     "output_type": "display_data"
    }
   ],
   "source": [
    "result = composite(coords)\n",
    "show(result)"
   ]
  },
  {
   "cell_type": "code",
   "execution_count": 16,
   "metadata": {},
   "outputs": [
    {
     "data": {
      "image/jpeg": "[encoded data removed]",
      "image/png": "[encoded data removed]",
      "text/plain": [
       "<PIL.Image.Image image mode=RGB size=128x128>"
      ]
     },
     "execution_count": 16,
     "metadata": {},
     "output_type": "execute_result"
    }
   ],
   "source": [
    "coords = {\n",
    "    \"trunk\": {\n",
    "        \"file\": \"rect.svg\",\n",
    "        \"bounding_box\": [50, 80, 78, 120]  # Tall rectangle for the trunk\n",
    "    },\n",
    "    \"foliage_bottom\": {\n",
    "        \"file\": \"circle.svg\",\n",
    "        \"bounding_box\": [30, 60, 100, 110]  # Large bottom foliage\n",
    "    },\n",
    "    \"foliage_middle\": {\n",
    "        \"file\": \"circle.svg\",\n",
    "        \"bounding_box\": [40, 40, 90, 90]  # Middle foliage\n",
    "    },\n",
    "    \"foliage_top\": {\n",
    "        \"file\": \"circle.svg\",\n",
    "        \"bounding_box\": [50, 20, 80, 70]  # Smallest top foliage\n",
    "    }\n",
    "}\n",
    "draw_bboxes(coords)\n"
   ]
  },
  {
   "cell_type": "code",
   "execution_count": 17,
   "metadata": {},
   "outputs": [
    {
     "data": {
      "image/jpeg": "[encoded data removed]",
      "image/png": "[encoded data removed]",
      "text/plain": [
       "<PIL.Image.Image image mode=RGB size=128x128>"
      ]
     },
     "metadata": {},
     "output_type": "display_data"
    },
    {
     "data": {
      "image/png": "[encoded data removed]",
      "text/plain": [
       "<PIL.Image.Image image mode=RGBA size=128x128>"
      ]
     },
     "metadata": {},
     "output_type": "display_data"
    }
   ],
   "source": [
    "result = composite(coords)\n",
    "show(result)\n",
    "\n",
    "# Let's draw with the bounding boxes\n",
    "img = Image.new(\"RGBA\", (128, 128), \"WHITE\")\n",
    "img.paste(\n",
    "    result.draw(return_png=True, do_display=False), \n",
    "    (0, 0), \n",
    "    result.draw(return_png=True, do_display=False)\n",
    "    ) \n",
    "img.convert(\"RGB\")\n",
    "draw = ImageDraw.Draw(img)\n",
    "for _, c in coords.items():\n",
    "    x, y, x2, y2 = c['bounding_box']\n",
    "    draw.rectangle([x, y, x2, y2], outline=\"red\", fill=None)\n",
    "img.show()"
   ]
  }
 ],
 "metadata": {
  "kernelspec": {
   "display_name": "sketch_agent",
   "language": "python",
   "name": "python3"
  },
  "language_info": {
   "codemirror_mode": {
    "name": "ipython",
    "version": 3
   },
   "file_extension": ".py",
   "mimetype": "text/x-python",
   "name": "python",
   "nbconvert_exporter": "python",
   "pygments_lexer": "ipython3",
   "version": "3.8.19"
  }
 },
 "nbformat": 4,
 "nbformat_minor": 2
}
