{
 "cells": [
  {
   "cell_type": "code",
   "execution_count": 1,
   "metadata": {},
   "outputs": [],
   "source": [
    "import json\n",
    "import sys\n",
    "import os\n",
    "from PIL import Image, ImageDraw"
   ]
  },
  {
   "cell_type": "code",
   "execution_count": 2,
   "metadata": {},
   "outputs": [],
   "source": [
    "# import the library\n",
    "root_dir = os.path.abspath(os.path.join(os.getcwd(), \"..\"))\n",
    "sys.path.append(root_dir)\n",
    "\n",
    "from svglib.svg import SVG\n",
    "from svglib.geom import Point"
   ]
  },
  {
   "cell_type": "code",
   "execution_count": 3,
   "metadata": {},
   "outputs": [],
   "source": [
    "sample_dir = os.path.join(root_dir, \"samples\")\n",
    "coords = json.load(open(os.path.join(sample_dir, \"placing.json\")))  # a file that tells you where to place a series of SVGs in a canvas "
   ]
  },
  {
   "cell_type": "markdown",
   "metadata": {},
   "source": [
    "## draw the destination bounding boxes on a raster image\n",
    "This gives us an idea of where to place all the SVGs "
   ]
  },
  {
   "cell_type": "code",
   "execution_count": null,
   "metadata": {},
   "outputs": [
    {
     "data": {
      "image/jpeg": "[encoded data removed]",
      "image/png": "[encoded data removed]",
      "text/plain": [
       "<PIL.Image.Image image mode=RGB size=128x128>"
      ]
     },
     "execution_count": 4,
     "metadata": {},
     "output_type": "execute_result"
    }
   ],
   "source": [
    "\n",
    "img = Image.new('RGB', (128, 128), color='white')\n",
    "draw = ImageDraw.Draw(img)\n",
    "for _, c in coords.items():\n",
    "    x, y, x2, y2 = c['bounding_box']\n",
    "    draw.rectangle([x, y, x2, y2], outline=\"black\", fill=None)\n",
    "img"
   ]
  },
  {
   "cell_type": "markdown",
   "metadata": {},
   "source": [
    "## Compute the scaling between the target bounding box and the original shape\n",
    "By defaul we consider the full size of each original shape (128, 128)"
   ]
  },
  {
   "cell_type": "code",
   "execution_count": 17,
   "metadata": {},
   "outputs": [
    {
     "name": "stdout",
     "output_type": "stream",
     "text": [
      "0.625 0.546875\n"
     ]
    }
   ],
   "source": [
    "# let's take the first square, and scale it to fit its bounding box in the canvas\n",
    "def compute_scale(x1, y1, x2, y2, orig_w=128, orig_h=128):\n",
    "    new_w, new_h = (x2 - x1, y2 - y1)  # the size of the bounding box\n",
    "    width_ratio = new_w / orig_w\n",
    "    height_ratio = new_h / orig_h\n",
    "    return width_ratio, height_ratio\n",
    "\n",
    "(x1, y1, x2, y2) = coords[\"house_body\"][\"bounding_box\"]\n",
    "width_ratio, height_ratio = compute_scale(x1, y1, x2, y2)\n",
    "print(width_ratio, height_ratio)\n",
    "scale_factor = min(width_ratio, height_ratio)\n"
   ]
  },
  {
   "cell_type": "markdown",
   "metadata": {},
   "source": [
    "## display one SVG"
   ]
  },
  {
   "cell_type": "code",
   "execution_count": null,
   "metadata": {},
   "outputs": [
    {
     "data": {
      "image/svg+xml": [
       "<svg xmlns=\"http://www.w3.org/2000/svg\" viewBox=\"0.0 0.0 128.0 128.0\" height=\"128\" width=\"128\"><line fill=\"none\" stroke=\"black\" stroke-width=\"1.0\" stroke-opacity=\"1.0\" x1=\"10.0\" y1=\"10.0\" x2=\"118.0\" y2=\"10.0\"/>\n",
       "<line fill=\"none\" stroke=\"black\" stroke-width=\"1.0\" stroke-opacity=\"1.0\" x1=\"118.0\" y1=\"10.0\" x2=\"118.0\" y2=\"118.0\"/>\n",
       "<line fill=\"none\" stroke=\"black\" stroke-width=\"1.0\" stroke-opacity=\"1.0\" x1=\"118.0\" y1=\"118.0\" x2=\"10.0\" y2=\"118.0\"/>\n",
       "<line fill=\"none\" stroke=\"black\" stroke-width=\"1.0\" stroke-opacity=\"1.0\" x1=\"10.0\" y1=\"118.0\" x2=\"10.0\" y2=\"10.0\"/></svg>"
      ],
      "text/plain": [
       "<IPython.core.display.SVG object>"
      ]
     },
     "metadata": {},
     "output_type": "display_data"
    },
    {
     "data": {
      "text/plain": [
       "SVG[Bbox(0.0 0.0 128.0 128.0)](\n",
       "\tSVGLine(xy1=P(10.0, 10.0) xy2=P(118.0, 10.0)),\n",
       "\tSVGLine(xy1=P(118.0, 10.0) xy2=P(118.0, 118.0)),\n",
       "\tSVGLine(xy1=P(118.0, 118.0) xy2=P(10.0, 118.0)),\n",
       "\tSVGLine(xy1=P(10.0, 118.0) xy2=P(10.0, 10.0))\n",
       ")"
      ]
     },
     "execution_count": 6,
     "metadata": {},
     "output_type": "execute_result"
    }
   ],
   "source": [
    "svg_path = os.path.join(sample_dir, coords[\"house_body\"][\"file\"])\n",
    "svg = SVG.load_svg(svg_path)\n",
    "svg.draw(do_display=True)\n",
    "svg"
   ]
  },
  {
   "cell_type": "markdown",
   "metadata": {},
   "source": [
    "## Let's scale and translate the shape\n",
    "This uses the the minimum scale factor between X and Y wrt the target bounding box!"
   ]
  },
  {
   "cell_type": "code",
   "execution_count": null,
   "metadata": {},
   "outputs": [
    {
     "data": {
      "image/svg+xml": [
       "<svg xmlns=\"http://www.w3.org/2000/svg\" viewBox=\"0.0 0.0 128.0 128.0\" height=\"128\" width=\"128\"><line fill=\"none\" stroke=\"black\" stroke-width=\"1.0\" stroke-opacity=\"1.0\" x1=\"34.46875\" y1=\"34.46875\" x2=\"93.53125\" y2=\"34.46875\"/>\n",
       "<line fill=\"none\" stroke=\"black\" stroke-width=\"1.0\" stroke-opacity=\"1.0\" x1=\"93.53125\" y1=\"34.46875\" x2=\"93.53125\" y2=\"93.53125\"/>\n",
       "<line fill=\"none\" stroke=\"black\" stroke-width=\"1.0\" stroke-opacity=\"1.0\" x1=\"93.53125\" y1=\"93.53125\" x2=\"34.46875\" y2=\"93.53125\"/>\n",
       "<line fill=\"none\" stroke=\"black\" stroke-width=\"1.0\" stroke-opacity=\"1.0\" x1=\"34.46875\" y1=\"93.53125\" x2=\"34.46875\" y2=\"34.46875\"/></svg>"
      ],
      "text/plain": [
       "<IPython.core.display.SVG object>"
      ]
     },
     "metadata": {},
     "output_type": "display_data"
    }
   ],
   "source": [
    "# scaling\n",
    "svg.scale(scale_factor)\n",
    "svg.draw(do_display=True)\n"
   ]
  },
  {
   "cell_type": "code",
   "execution_count": 8,
   "metadata": {},
   "outputs": [
    {
     "data": {
      "image/svg+xml": [
       "<svg xmlns=\"http://www.w3.org/2000/svg\" viewBox=\"0.0 0.0 128.0 128.0\" height=\"128\" width=\"128\"><line fill=\"none\" stroke=\"black\" stroke-width=\"1.0\" stroke-opacity=\"1.0\" x1=\"-29.53125\" y1=\"-29.53125\" x2=\"29.53125\" y2=\"-29.53125\"/>\n",
       "<line fill=\"none\" stroke=\"black\" stroke-width=\"1.0\" stroke-opacity=\"1.0\" x1=\"29.53125\" y1=\"-29.53125\" x2=\"29.53125\" y2=\"29.53125\"/>\n",
       "<line fill=\"none\" stroke=\"black\" stroke-width=\"1.0\" stroke-opacity=\"1.0\" x1=\"29.53125\" y1=\"29.53125\" x2=\"-29.53125\" y2=\"29.53125\"/>\n",
       "<line fill=\"none\" stroke=\"black\" stroke-width=\"1.0\" stroke-opacity=\"1.0\" x1=\"-29.53125\" y1=\"29.53125\" x2=\"-29.53125\" y2=\"-29.53125\"/></svg>"
      ],
      "text/plain": [
       "<IPython.core.display.SVG object>"
      ]
     },
     "metadata": {},
     "output_type": "display_data"
    },
    {
     "data": {
      "image/svg+xml": [
       "<svg xmlns=\"http://www.w3.org/2000/svg\" viewBox=\"0.0 0.0 128.0 128.0\" height=\"128\" width=\"128\"><line fill=\"none\" stroke=\"black\" stroke-width=\"1.0\" stroke-opacity=\"1.0\" x1=\"30.46875\" y1=\"55.46875\" x2=\"89.53125\" y2=\"55.46875\"/>\n",
       "<line fill=\"none\" stroke=\"black\" stroke-width=\"1.0\" stroke-opacity=\"1.0\" x1=\"89.53125\" y1=\"55.46875\" x2=\"89.53125\" y2=\"114.53125\"/>\n",
       "<line fill=\"none\" stroke=\"black\" stroke-width=\"1.0\" stroke-opacity=\"1.0\" x1=\"89.53125\" y1=\"114.53125\" x2=\"30.46875\" y2=\"114.53125\"/>\n",
       "<line fill=\"none\" stroke=\"black\" stroke-width=\"1.0\" stroke-opacity=\"1.0\" x1=\"30.46875\" y1=\"114.53125\" x2=\"30.46875\" y2=\"55.46875\"/></svg>"
      ],
      "text/plain": [
       "<IPython.core.display.SVG object>"
      ]
     },
     "metadata": {},
     "output_type": "display_data"
    }
   ],
   "source": [
    "# let's adjust the shape so that the new center is the center of the bounding box\n",
    "svg.translate(-svg.viewbox.center)\n",
    "svg.draw(do_display=True)\n",
    "\n",
    "target_center = Point((x1 + x2) // 2, (y1 + y2) // 2)\n",
    "svg.translate(target_center)\n",
    "svg.draw(do_display=True)\n"
   ]
  },
  {
   "cell_type": "markdown",
   "metadata": {},
   "source": [
    "## Apply this to all the basic shapes and their bounding boxes, then composite!"
   ]
  },
  {
   "cell_type": "code",
   "execution_count": 9,
   "metadata": {},
   "outputs": [
    {
     "data": {
      "image/svg+xml": [
       "<svg xmlns=\"http://www.w3.org/2000/svg\" viewBox=\"0.0 0.0 128.0 128.0\" height=\"200\" width=\"200\"><line fill=\"none\" stroke=\"black\" stroke-width=\"1.0\" stroke-opacity=\"1.0\" x1=\"30.46875\" y1=\"55.46875\" x2=\"89.53125\" y2=\"55.46875\"/>\n",
       "<line fill=\"none\" stroke=\"black\" stroke-width=\"1.0\" stroke-opacity=\"1.0\" x1=\"89.53125\" y1=\"55.46875\" x2=\"89.53125\" y2=\"114.53125\"/>\n",
       "<line fill=\"none\" stroke=\"black\" stroke-width=\"1.0\" stroke-opacity=\"1.0\" x1=\"89.53125\" y1=\"114.53125\" x2=\"30.46875\" y2=\"114.53125\"/>\n",
       "<line fill=\"none\" stroke=\"black\" stroke-width=\"1.0\" stroke-opacity=\"1.0\" x1=\"30.46875\" y1=\"114.53125\" x2=\"30.46875\" y2=\"55.46875\"/>\n",
       "<line fill=\"none\" stroke=\"black\" stroke-width=\"1.0\" stroke-opacity=\"1.0\" x1=\"36.5625\" y1=\"71.5625\" x2=\"53.4375\" y2=\"71.5625\"/>\n",
       "<line fill=\"none\" stroke=\"black\" stroke-width=\"1.0\" stroke-opacity=\"1.0\" x1=\"53.4375\" y1=\"71.5625\" x2=\"53.4375\" y2=\"88.4375\"/>\n",
       "<line fill=\"none\" stroke=\"black\" stroke-width=\"1.0\" stroke-opacity=\"1.0\" x1=\"53.4375\" y1=\"88.4375\" x2=\"36.5625\" y2=\"88.4375\"/>\n",
       "<line fill=\"none\" stroke=\"black\" stroke-width=\"1.0\" stroke-opacity=\"1.0\" x1=\"36.5625\" y1=\"88.4375\" x2=\"36.5625\" y2=\"71.5625\"/>\n",
       "<line fill=\"none\" stroke=\"black\" stroke-width=\"1.0\" stroke-opacity=\"1.0\" x1=\"71.5625\" y1=\"71.5625\" x2=\"88.4375\" y2=\"71.5625\"/>\n",
       "<line fill=\"none\" stroke=\"black\" stroke-width=\"1.0\" stroke-opacity=\"1.0\" x1=\"88.4375\" y1=\"71.5625\" x2=\"88.4375\" y2=\"88.4375\"/>\n",
       "<line fill=\"none\" stroke=\"black\" stroke-width=\"1.0\" stroke-opacity=\"1.0\" x1=\"88.4375\" y1=\"88.4375\" x2=\"71.5625\" y2=\"88.4375\"/>\n",
       "<line fill=\"none\" stroke=\"black\" stroke-width=\"1.0\" stroke-opacity=\"1.0\" x1=\"71.5625\" y1=\"88.4375\" x2=\"71.5625\" y2=\"71.5625\"/>\n",
       "<line fill=\"none\" stroke=\"black\" stroke-width=\"1.0\" stroke-opacity=\"1.0\" x1=\"60.0\" y1=\"8.015625\" x2=\"76.171875\" y2=\"43.171875\"/>\n",
       "<line fill=\"none\" stroke=\"black\" stroke-width=\"1.0\" stroke-opacity=\"1.0\" x1=\"76.171875\" y1=\"43.171875\" x2=\"43.828125\" y2=\"43.171875\"/>\n",
       "<line fill=\"none\" stroke=\"black\" stroke-width=\"1.0\" stroke-opacity=\"1.0\" x1=\"43.828125\" y1=\"43.171875\" x2=\"60.0\" y2=\"8.015625\"/></svg>"
      ],
      "text/plain": [
       "<IPython.core.display.SVG object>"
      ]
     },
     "metadata": {},
     "output_type": "display_data"
    }
   ],
   "source": [
    "# apply this to every shape in the SVG file\n",
    "composite = SVG([], (128, 128), width=128, height=128)\n",
    "\n",
    "for shape in coords.values():\n",
    "    svg_path = os.path.join(sample_dir, shape[\"file\"])\n",
    "    svg = SVG.load_svg(svg_path)\n",
    "    \n",
    "    (x1, y1, x2, y2) = shape[\"bounding_box\"]\n",
    "    width_ratio, height_ratio = compute_scale(x1, y1, x2, y2)\n",
    "    scale_factor = min(width_ratio, height_ratio)\n",
    "    target_center = Point((x1 + x2) // 2, (y1 + y2) // 2)\n",
    "    \n",
    "    svg.scale(scale_factor)\n",
    "    svg.translate(-svg.viewbox.center)\n",
    "    svg.translate(target_center)\n",
    "    composite = composite + svg \n",
    "    \n",
    "composite.draw(do_display=True)"
   ]
  },
  {
   "cell_type": "markdown",
   "metadata": {},
   "source": [
    "## Not nice. Use (sx, sy) to scale"
   ]
  },
  {
   "cell_type": "code",
   "execution_count": 10,
   "metadata": {},
   "outputs": [
    {
     "data": {
      "image/svg+xml": [
       "<svg xmlns=\"http://www.w3.org/2000/svg\" viewBox=\"0.0 0.0 128.0 128.0\" height=\"200\" width=\"200\"><line fill=\"none\" stroke=\"black\" stroke-width=\"1.0\" stroke-opacity=\"1.0\" x1=\"26.25\" y1=\"55.46875\" x2=\"93.75\" y2=\"55.46875\"/>\n",
       "<line fill=\"none\" stroke=\"black\" stroke-width=\"1.0\" stroke-opacity=\"1.0\" x1=\"93.75\" y1=\"55.46875\" x2=\"93.75\" y2=\"114.53125\"/>\n",
       "<line fill=\"none\" stroke=\"black\" stroke-width=\"1.0\" stroke-opacity=\"1.0\" x1=\"93.75\" y1=\"114.53125\" x2=\"26.25\" y2=\"114.53125\"/>\n",
       "<line fill=\"none\" stroke=\"black\" stroke-width=\"1.0\" stroke-opacity=\"1.0\" x1=\"26.25\" y1=\"114.53125\" x2=\"26.25\" y2=\"55.46875\"/>\n",
       "<line fill=\"none\" stroke=\"black\" stroke-width=\"1.0\" stroke-opacity=\"1.0\" x1=\"36.5625\" y1=\"71.5625\" x2=\"53.4375\" y2=\"71.5625\"/>\n",
       "<line fill=\"none\" stroke=\"black\" stroke-width=\"1.0\" stroke-opacity=\"1.0\" x1=\"53.4375\" y1=\"71.5625\" x2=\"53.4375\" y2=\"88.4375\"/>\n",
       "<line fill=\"none\" stroke=\"black\" stroke-width=\"1.0\" stroke-opacity=\"1.0\" x1=\"53.4375\" y1=\"88.4375\" x2=\"36.5625\" y2=\"88.4375\"/>\n",
       "<line fill=\"none\" stroke=\"black\" stroke-width=\"1.0\" stroke-opacity=\"1.0\" x1=\"36.5625\" y1=\"88.4375\" x2=\"36.5625\" y2=\"71.5625\"/>\n",
       "<line fill=\"none\" stroke=\"black\" stroke-width=\"1.0\" stroke-opacity=\"1.0\" x1=\"71.5625\" y1=\"71.5625\" x2=\"88.4375\" y2=\"71.5625\"/>\n",
       "<line fill=\"none\" stroke=\"black\" stroke-width=\"1.0\" stroke-opacity=\"1.0\" x1=\"88.4375\" y1=\"71.5625\" x2=\"88.4375\" y2=\"88.4375\"/>\n",
       "<line fill=\"none\" stroke=\"black\" stroke-width=\"1.0\" stroke-opacity=\"1.0\" x1=\"88.4375\" y1=\"88.4375\" x2=\"71.5625\" y2=\"88.4375\"/>\n",
       "<line fill=\"none\" stroke=\"black\" stroke-width=\"1.0\" stroke-opacity=\"1.0\" x1=\"71.5625\" y1=\"88.4375\" x2=\"71.5625\" y2=\"71.5625\"/>\n",
       "<line fill=\"none\" stroke=\"black\" stroke-width=\"1.0\" stroke-opacity=\"1.0\" x1=\"60.0\" y1=\"8.015625\" x2=\"88.75\" y2=\"43.171875\"/>\n",
       "<line fill=\"none\" stroke=\"black\" stroke-width=\"1.0\" stroke-opacity=\"1.0\" x1=\"88.75\" y1=\"43.171875\" x2=\"31.25\" y2=\"43.171875\"/>\n",
       "<line fill=\"none\" stroke=\"black\" stroke-width=\"1.0\" stroke-opacity=\"1.0\" x1=\"31.25\" y1=\"43.171875\" x2=\"60.0\" y2=\"8.015625\"/></svg>"
      ],
      "text/plain": [
       "<IPython.core.display.SVG object>"
      ]
     },
     "metadata": {},
     "output_type": "display_data"
    }
   ],
   "source": [
    "composite = SVG([], (128, 128), width=128, height=128)\n",
    "for shape in coords.values():\n",
    "    svg_path = os.path.join(sample_dir, shape[\"file\"])\n",
    "    svg = SVG.load_svg(svg_path)\n",
    "    \n",
    "    (x1, y1, x2, y2) = shape[\"bounding_box\"]\n",
    "    width_ratio, height_ratio = compute_scale(x1, y1, x2, y2)\n",
    "    target_center = Point((x1 + x2) // 2, (y1 + y2) // 2)\n",
    "    \n",
    "    svg.scale((width_ratio, height_ratio))\n",
    "    svg.translate(-svg.viewbox.center)\n",
    "    svg.translate(target_center)\n",
    "    composite = composite + svg \n",
    "    \n",
    "composite.draw(do_display=True)"
   ]
  },
  {
   "cell_type": "markdown",
   "metadata": {},
   "source": [
    "## We inherit the padding of the original image\n",
    "Let's use the bounding boxes that wrap each basic shape to compute the best scaling ratio"
   ]
  },
  {
   "cell_type": "code",
   "execution_count": null,
   "metadata": {},
   "outputs": [
    {
     "data": {
      "text/plain": [
       "((31.25, 8.015625), (88.75, 43.171875))"
      ]
     },
     "execution_count": 11,
     "metadata": {},
     "output_type": "execute_result"
    }
   ],
   "source": [
    "svg.bbox()"
   ]
  },
  {
   "cell_type": "code",
   "execution_count": null,
   "metadata": {},
   "outputs": [
    {
     "name": "stdout",
     "output_type": "stream",
     "text": [
      "P(60.0, 85.0)\n",
      "P(45.0, 80.0)\n",
      "P(80.0, 80.0)\n",
      "P(60.0, 27.0)\n"
     ]
    },
    {
     "data": {
      "image/svg+xml": [
       "<svg xmlns=\"http://www.w3.org/2000/svg\" viewBox=\"0.0 0.0 128.0 128.0\" height=\"200\" width=\"200\"><line fill=\"none\" stroke=\"black\" stroke-width=\"1.0\" stroke-opacity=\"1.0\" x1=\"20.0\" y1=\"50.0\" x2=\"100.0\" y2=\"50.0\"/>\n",
       "<line fill=\"none\" stroke=\"black\" stroke-width=\"1.0\" stroke-opacity=\"1.0\" x1=\"100.0\" y1=\"50.0\" x2=\"100.0\" y2=\"120.0\"/>\n",
       "<line fill=\"none\" stroke=\"black\" stroke-width=\"1.0\" stroke-opacity=\"1.0\" x1=\"100.0\" y1=\"120.0\" x2=\"20.0\" y2=\"120.0\"/>\n",
       "<line fill=\"none\" stroke=\"black\" stroke-width=\"1.0\" stroke-opacity=\"1.0\" x1=\"20.0\" y1=\"120.0\" x2=\"20.0\" y2=\"50.0\"/>\n",
       "<line fill=\"none\" stroke=\"black\" stroke-width=\"1.0\" stroke-opacity=\"1.0\" x1=\"35.0\" y1=\"70.0\" x2=\"55.0\" y2=\"70.0\"/>\n",
       "<line fill=\"none\" stroke=\"black\" stroke-width=\"1.0\" stroke-opacity=\"1.0\" x1=\"55.0\" y1=\"70.0\" x2=\"55.0\" y2=\"90.0\"/>\n",
       "<line fill=\"none\" stroke=\"black\" stroke-width=\"1.0\" stroke-opacity=\"1.0\" x1=\"55.0\" y1=\"90.0\" x2=\"35.0\" y2=\"90.0\"/>\n",
       "<line fill=\"none\" stroke=\"black\" stroke-width=\"1.0\" stroke-opacity=\"1.0\" x1=\"35.0\" y1=\"90.0\" x2=\"35.0\" y2=\"70.0\"/>\n",
       "<line fill=\"none\" stroke=\"black\" stroke-width=\"1.0\" stroke-opacity=\"1.0\" x1=\"70.0\" y1=\"70.0\" x2=\"90.0\" y2=\"70.0\"/>\n",
       "<line fill=\"none\" stroke=\"black\" stroke-width=\"1.0\" stroke-opacity=\"1.0\" x1=\"90.0\" y1=\"70.0\" x2=\"90.0\" y2=\"90.0\"/>\n",
       "<line fill=\"none\" stroke=\"black\" stroke-width=\"1.0\" stroke-opacity=\"1.0\" x1=\"90.0\" y1=\"90.0\" x2=\"70.0\" y2=\"90.0\"/>\n",
       "<line fill=\"none\" stroke=\"black\" stroke-width=\"1.0\" stroke-opacity=\"1.0\" x1=\"70.0\" y1=\"90.0\" x2=\"70.0\" y2=\"70.0\"/>\n",
       "<line fill=\"none\" stroke=\"black\" stroke-width=\"1.0\" stroke-opacity=\"1.0\" x1=\"60.0\" y1=\"2.700000762939453\" x2=\"100.0\" y2=\"47.69999694824219\"/>\n",
       "<line fill=\"none\" stroke=\"black\" stroke-width=\"1.0\" stroke-opacity=\"1.0\" x1=\"100.0\" y1=\"47.69999694824219\" x2=\"20.0\" y2=\"47.69999694824219\"/>\n",
       "<line fill=\"none\" stroke=\"black\" stroke-width=\"1.0\" stroke-opacity=\"1.0\" x1=\"20.0\" y1=\"47.69999694824219\" x2=\"60.0\" y2=\"2.700000762939453\"/></svg>"
      ],
      "text/plain": [
       "<IPython.core.display.SVG object>"
      ]
     },
     "metadata": {},
     "output_type": "display_data"
    }
   ],
   "source": [
    "\n",
    "composite = SVG([], (128, 128), width=128, height=128)\n",
    "\n",
    "for shape in coords.values():\n",
    "    svg_path = os.path.join(sample_dir, shape[\"file\"])\n",
    "    svg = SVG.load_svg(svg_path)\n",
    "    \n",
    "    (x1, y1, x2, y2) = shape[\"bounding_box\"]\n",
    "    (_x1, _y1), (_x2, _y2) = svg.bbox()\n",
    "    \n",
    "    # compute width and height for the box rather than the full image\n",
    "    _w, _h = _x2 - _x1, _y2 - _y1\n",
    "    width_ratio, height_ratio = compute_scale(x1, y1, x2, y2, _w, _h)\n",
    "\n",
    "    target_center = Point((x1 + x2) // 2, (y1 + y2) // 2)\n",
    "    \n",
    "    svg.scale((width_ratio, height_ratio))\n",
    "    svg.translate(-svg.viewbox.center)\n",
    "    svg.translate(target_center)\n",
    "    composite = composite + svg \n",
    "    \n",
    "composite.draw(do_display=True)"
   ]
  },
  {
   "cell_type": "code",
   "execution_count": 14,
   "metadata": {},
   "outputs": [
    {
     "data": {
      "text/plain": [
       "P(64.0, 60.0)"
      ]
     },
     "execution_count": 14,
     "metadata": {},
     "output_type": "execute_result"
    }
   ],
   "source": [
    "target_center"
   ]
  },
  {
   "cell_type": "code",
   "execution_count": null,
   "metadata": {},
   "outputs": [],
   "source": []
  }
 ],
 "metadata": {
  "kernelspec": {
   "display_name": "sketch_agent",
   "language": "python",
   "name": "python3"
  },
  "language_info": {
   "codemirror_mode": {
    "name": "ipython",
    "version": 3
   },
   "file_extension": ".py",
   "mimetype": "text/x-python",
   "name": "python",
   "nbconvert_exporter": "python",
   "pygments_lexer": "ipython3",
   "version": "3.8.19"
  }
 },
 "nbformat": 4,
 "nbformat_minor": 2
}
