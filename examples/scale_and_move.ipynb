{
 "cells": [
  {
   "cell_type": "code",
   "execution_count": 1,
   "metadata": {},
   "outputs": [],
   "source": [
    "import json\n",
    "import sys\n",
    "import os\n",
    "from PIL import Image, ImageDraw"
   ]
  },
  {
   "cell_type": "code",
   "execution_count": 2,
   "metadata": {},
   "outputs": [],
   "source": [
    "# import the library\n",
    "root_dir = os.path.abspath(os.path.join(os.getcwd(), \"..\"))\n",
    "sys.path.append(root_dir)\n",
    "\n",
    "from svglib.svg import SVG\n",
    "from svglib.geom import Point"
   ]
  },
  {
   "cell_type": "code",
   "execution_count": 3,
   "metadata": {},
   "outputs": [],
   "source": [
    "sample_dir = os.path.join(root_dir, \"samples\")\n",
    "coords = json.load(open(os.path.join(sample_dir, \"placing.json\")))  # a file that tells you where to place a series of SVGs in a canvas "
   ]
  },
  {
   "cell_type": "code",
   "execution_count": 4,
   "metadata": {},
   "outputs": [
    {
     "data": {
      "image/jpeg": "[encoded data removed]",
      "image/png": "[encoded data removed]",
      "text/plain": [
       "<PIL.Image.Image image mode=RGB size=128x128>"
      ]
     },
     "execution_count": 4,
     "metadata": {},
     "output_type": "execute_result"
    }
   ],
   "source": [
    "# draw the bounding boxes that tells where to place all the SVGs \n",
    "img = Image.new('RGB', (128, 128), color='white')\n",
    "draw = ImageDraw.Draw(img)\n",
    "for _, c in coords.items():\n",
    "    x, y, x2, y2 = c['bounding_box']\n",
    "    draw.rectangle([x, y, x2, y2], outline=\"black\", fill=None)\n",
    "img"
   ]
  },
  {
   "cell_type": "code",
   "execution_count": 18,
   "metadata": {},
   "outputs": [],
   "source": [
    "# let's take the first square, and scale it to fit its bounding box in the canvas\n",
    "def compute_scale_shift(x1, y1, x2, y2):\n",
    "    orig_w, orig_h = (128, 128)  # the original size of the svg file\n",
    "    new_w, new_h = (x2 - x1, y2 - y1)  # the size of the bounding box\n",
    "    width_ratio = new_w / orig_w\n",
    "    height_ratio = new_h / orig_h\n",
    "    return min(width_ratio, height_ratio)\n",
    "\n",
    "(x1, y1, x2, y2) = coords[\"house_body\"][\"bounding_box\"]\n",
    "scale_factor = compute_scale_shift(x1, y1, x2, y2)\n"
   ]
  },
  {
   "cell_type": "code",
   "execution_count": 6,
   "metadata": {},
   "outputs": [
    {
     "data": {
      "image/svg+xml": [
       "<svg xmlns=\"http://www.w3.org/2000/svg\" viewBox=\"0.0 0.0 128.0 128.0\" height=\"128\" width=\"128\"><line fill=\"none\" stroke=\"black\" stroke-width=\"1.0\" stroke-opacity=\"1.0\" x1=\"10.0\" y1=\"10.0\" x2=\"118.0\" y2=\"10.0\"/>\n",
       "<line fill=\"none\" stroke=\"black\" stroke-width=\"1.0\" stroke-opacity=\"1.0\" x1=\"118.0\" y1=\"10.0\" x2=\"118.0\" y2=\"118.0\"/>\n",
       "<line fill=\"none\" stroke=\"black\" stroke-width=\"1.0\" stroke-opacity=\"1.0\" x1=\"118.0\" y1=\"118.0\" x2=\"10.0\" y2=\"118.0\"/>\n",
       "<line fill=\"none\" stroke=\"black\" stroke-width=\"1.0\" stroke-opacity=\"1.0\" x1=\"10.0\" y1=\"118.0\" x2=\"10.0\" y2=\"10.0\"/></svg>"
      ],
      "text/plain": [
       "<IPython.core.display.SVG object>"
      ]
     },
     "metadata": {},
     "output_type": "display_data"
    },
    {
     "data": {
      "text/plain": [
       "SVG[Bbox(0.0 0.0 128.0 128.0)](\n",
       "\tSVGLine(xy1=P(10.0, 10.0) xy2=P(118.0, 10.0)),\n",
       "\tSVGLine(xy1=P(118.0, 10.0) xy2=P(118.0, 118.0)),\n",
       "\tSVGLine(xy1=P(118.0, 118.0) xy2=P(10.0, 118.0)),\n",
       "\tSVGLine(xy1=P(10.0, 118.0) xy2=P(10.0, 10.0))\n",
       ")"
      ]
     },
     "execution_count": 6,
     "metadata": {},
     "output_type": "execute_result"
    }
   ],
   "source": [
    "# display one SVG\n",
    "svg_path = os.path.join(sample_dir, coords[\"house_body\"][\"file\"])\n",
    "svg = SVG.load_svg(svg_path)\n",
    "svg.draw(do_display=True)\n",
    "svg"
   ]
  },
  {
   "cell_type": "code",
   "execution_count": 7,
   "metadata": {},
   "outputs": [
    {
     "data": {
      "image/svg+xml": [
       "<svg xmlns=\"http://www.w3.org/2000/svg\" viewBox=\"0.0 0.0 128.0 128.0\" height=\"128\" width=\"128\"><line fill=\"none\" stroke=\"black\" stroke-width=\"1.0\" stroke-opacity=\"1.0\" x1=\"34.46875\" y1=\"34.46875\" x2=\"93.53125\" y2=\"34.46875\"/>\n",
       "<line fill=\"none\" stroke=\"black\" stroke-width=\"1.0\" stroke-opacity=\"1.0\" x1=\"93.53125\" y1=\"34.46875\" x2=\"93.53125\" y2=\"93.53125\"/>\n",
       "<line fill=\"none\" stroke=\"black\" stroke-width=\"1.0\" stroke-opacity=\"1.0\" x1=\"93.53125\" y1=\"93.53125\" x2=\"34.46875\" y2=\"93.53125\"/>\n",
       "<line fill=\"none\" stroke=\"black\" stroke-width=\"1.0\" stroke-opacity=\"1.0\" x1=\"34.46875\" y1=\"93.53125\" x2=\"34.46875\" y2=\"34.46875\"/></svg>"
      ],
      "text/plain": [
       "<IPython.core.display.SVG object>"
      ]
     },
     "metadata": {},
     "output_type": "display_data"
    }
   ],
   "source": [
    "# let's scale \n",
    "svg.zoom(scale_factor)\n",
    "svg.draw(do_display=True)\n"
   ]
  },
  {
   "cell_type": "code",
   "execution_count": 8,
   "metadata": {},
   "outputs": [
    {
     "data": {
      "image/svg+xml": [
       "<svg xmlns=\"http://www.w3.org/2000/svg\" viewBox=\"0.0 0.0 128.0 128.0\" height=\"128\" width=\"128\"><line fill=\"none\" stroke=\"black\" stroke-width=\"1.0\" stroke-opacity=\"1.0\" x1=\"-29.53125\" y1=\"-29.53125\" x2=\"29.53125\" y2=\"-29.53125\"/>\n",
       "<line fill=\"none\" stroke=\"black\" stroke-width=\"1.0\" stroke-opacity=\"1.0\" x1=\"29.53125\" y1=\"-29.53125\" x2=\"29.53125\" y2=\"29.53125\"/>\n",
       "<line fill=\"none\" stroke=\"black\" stroke-width=\"1.0\" stroke-opacity=\"1.0\" x1=\"29.53125\" y1=\"29.53125\" x2=\"-29.53125\" y2=\"29.53125\"/>\n",
       "<line fill=\"none\" stroke=\"black\" stroke-width=\"1.0\" stroke-opacity=\"1.0\" x1=\"-29.53125\" y1=\"29.53125\" x2=\"-29.53125\" y2=\"-29.53125\"/></svg>"
      ],
      "text/plain": [
       "<IPython.core.display.SVG object>"
      ]
     },
     "metadata": {},
     "output_type": "display_data"
    },
    {
     "data": {
      "image/svg+xml": [
       "<svg xmlns=\"http://www.w3.org/2000/svg\" viewBox=\"0.0 0.0 128.0 128.0\" height=\"128\" width=\"128\"><line fill=\"none\" stroke=\"black\" stroke-width=\"1.0\" stroke-opacity=\"1.0\" x1=\"30.46875\" y1=\"55.46875\" x2=\"89.53125\" y2=\"55.46875\"/>\n",
       "<line fill=\"none\" stroke=\"black\" stroke-width=\"1.0\" stroke-opacity=\"1.0\" x1=\"89.53125\" y1=\"55.46875\" x2=\"89.53125\" y2=\"114.53125\"/>\n",
       "<line fill=\"none\" stroke=\"black\" stroke-width=\"1.0\" stroke-opacity=\"1.0\" x1=\"89.53125\" y1=\"114.53125\" x2=\"30.46875\" y2=\"114.53125\"/>\n",
       "<line fill=\"none\" stroke=\"black\" stroke-width=\"1.0\" stroke-opacity=\"1.0\" x1=\"30.46875\" y1=\"114.53125\" x2=\"30.46875\" y2=\"55.46875\"/></svg>"
      ],
      "text/plain": [
       "<IPython.core.display.SVG object>"
      ]
     },
     "metadata": {},
     "output_type": "display_data"
    }
   ],
   "source": [
    "# let's adjust the shape so that the new center is the center of the bounding box\n",
    "svg.translate(-svg.viewbox.center)\n",
    "svg.draw(do_display=True)\n",
    "\n",
    "target_center = Point((x1 + x2) // 2, (y1 + y2) // 2)\n",
    "svg.translate(target_center)\n",
    "svg.draw(do_display=True)\n"
   ]
  },
  {
   "cell_type": "code",
   "execution_count": 17,
   "metadata": {},
   "outputs": [
    {
     "data": {
      "image/svg+xml": [
       "<svg xmlns=\"http://www.w3.org/2000/svg\" viewBox=\"0.0 0.0 128.0 128.0\" height=\"200\" width=\"200\"><line fill=\"none\" stroke=\"black\" stroke-width=\"1.0\" stroke-opacity=\"1.0\" x1=\"28.359375\" y1=\"53.359375\" x2=\"91.640625\" y2=\"53.359375\"/>\n",
       "<line fill=\"none\" stroke=\"black\" stroke-width=\"1.0\" stroke-opacity=\"1.0\" x1=\"91.640625\" y1=\"53.359375\" x2=\"91.640625\" y2=\"116.640625\"/>\n",
       "<line fill=\"none\" stroke=\"black\" stroke-width=\"1.0\" stroke-opacity=\"1.0\" x1=\"91.640625\" y1=\"116.640625\" x2=\"28.359375\" y2=\"116.640625\"/>\n",
       "<line fill=\"none\" stroke=\"black\" stroke-width=\"1.0\" stroke-opacity=\"1.0\" x1=\"28.359375\" y1=\"116.640625\" x2=\"28.359375\" y2=\"53.359375\"/>\n",
       "<line fill=\"none\" stroke=\"black\" stroke-width=\"1.0\" stroke-opacity=\"1.0\" x1=\"36.5625\" y1=\"71.5625\" x2=\"53.4375\" y2=\"71.5625\"/>\n",
       "<line fill=\"none\" stroke=\"black\" stroke-width=\"1.0\" stroke-opacity=\"1.0\" x1=\"53.4375\" y1=\"71.5625\" x2=\"53.4375\" y2=\"88.4375\"/>\n",
       "<line fill=\"none\" stroke=\"black\" stroke-width=\"1.0\" stroke-opacity=\"1.0\" x1=\"53.4375\" y1=\"88.4375\" x2=\"36.5625\" y2=\"88.4375\"/>\n",
       "<line fill=\"none\" stroke=\"black\" stroke-width=\"1.0\" stroke-opacity=\"1.0\" x1=\"36.5625\" y1=\"88.4375\" x2=\"36.5625\" y2=\"71.5625\"/>\n",
       "<line fill=\"none\" stroke=\"black\" stroke-width=\"1.0\" stroke-opacity=\"1.0\" x1=\"71.5625\" y1=\"71.5625\" x2=\"88.4375\" y2=\"71.5625\"/>\n",
       "<line fill=\"none\" stroke=\"black\" stroke-width=\"1.0\" stroke-opacity=\"1.0\" x1=\"88.4375\" y1=\"71.5625\" x2=\"88.4375\" y2=\"88.4375\"/>\n",
       "<line fill=\"none\" stroke=\"black\" stroke-width=\"1.0\" stroke-opacity=\"1.0\" x1=\"88.4375\" y1=\"88.4375\" x2=\"71.5625\" y2=\"88.4375\"/>\n",
       "<line fill=\"none\" stroke=\"black\" stroke-width=\"1.0\" stroke-opacity=\"1.0\" x1=\"71.5625\" y1=\"88.4375\" x2=\"71.5625\" y2=\"71.5625\"/>\n",
       "<line fill=\"none\" stroke=\"black\" stroke-width=\"1.0\" stroke-opacity=\"1.0\" x1=\"60.0\" y1=\"0.6328125\" x2=\"82.4609375\" y2=\"49.4609375\"/>\n",
       "<line fill=\"none\" stroke=\"black\" stroke-width=\"1.0\" stroke-opacity=\"1.0\" x1=\"82.4609375\" y1=\"49.4609375\" x2=\"37.5390625\" y2=\"49.4609375\"/>\n",
       "<line fill=\"none\" stroke=\"black\" stroke-width=\"1.0\" stroke-opacity=\"1.0\" x1=\"37.5390625\" y1=\"49.4609375\" x2=\"60.0\" y2=\"0.6328125\"/></svg>"
      ],
      "text/plain": [
       "<IPython.core.display.SVG object>"
      ]
     },
     "metadata": {},
     "output_type": "display_data"
    }
   ],
   "source": [
    "# apply this to every shape in the SVG file\n",
    "composite = SVG([], (128, 128), width=128, height=128)\n",
    "\n",
    "for shape in coords.values():\n",
    "    svg_path = os.path.join(sample_dir, shape[\"file\"])\n",
    "    svg = SVG.load_svg(svg_path)\n",
    "    \n",
    "    (x1, y1, x2, y2) = shape[\"bounding_box\"]\n",
    "    scale_factor = compute_scale_shift(x1, y1, x2, y2)\n",
    "    target_center = Point((x1 + x2) // 2, (y1 + y2) // 2)\n",
    "    \n",
    "    svg.zoom(scale_factor)\n",
    "    svg.translate(-svg.viewbox.center)\n",
    "    svg.translate(target_center)\n",
    "    composite = composite + svg \n",
    "    \n",
    "composite.draw(do_display=True)"
   ]
  },
  {
   "cell_type": "code",
   "execution_count": 10,
   "metadata": {},
   "outputs": [
    {
     "data": {
      "text/plain": [
       "SVG[Bbox(0.0 0.0 128.0 128.0)](\n",
       "\n",
       ")"
      ]
     },
     "execution_count": 10,
     "metadata": {},
     "output_type": "execute_result"
    }
   ],
   "source": [
    "SVG([], (128, 128), width=128, height=128)"
   ]
  },
  {
   "cell_type": "code",
   "execution_count": null,
   "metadata": {},
   "outputs": [],
   "source": [
    "def merge_svg_files(coordinates, file_dir):\n",
    "    image_size = (128, 128)  # Original image dimensions (width, height)\n",
    "    for key, coords in coordinates.items():\n",
    "        file = coords[\"file\"]\n",
    "        (x1, y1, x2, y2) = coords[\"bounding_box\"]\n",
    "        width_ratio = (x2 - x1) / image_size[0]\n",
    "        height_ratio = (y2 - y1) / image_size[1]\n",
    "        assert width_ratio == height_ratio, \"Width and height ratios should be equal.\"\n",
    "\n",
    "        svg = SVG.load_svg(os.path.join(file_dir, file))\n",
    "        svg.zoom(width_ratio)\n",
    "        \n",
    "        from svglib.geom import Point\n",
    "        target_center = Point(x1, y1)\n",
    "        svg.translate(target_center)\n",
    "\n",
    "        svg.save_svg(os.path.join(file_dir, \"out.svg\"))"
   ]
  },
  {
   "cell_type": "code",
   "execution_count": null,
   "metadata": {},
   "outputs": [],
   "source": []
  },
  {
   "cell_type": "code",
   "execution_count": 13,
   "metadata": {},
   "outputs": [
    {
     "ename": "NotImplementedError",
     "evalue": "",
     "output_type": "error",
     "traceback": [
      "\u001b[0;31m---------------------------------------------------------------------------\u001b[0m",
      "\u001b[0;31mNotImplementedError\u001b[0m                       Traceback (most recent call last)",
      "Cell \u001b[0;32mIn[13], line 2\u001b[0m\n\u001b[1;32m      1\u001b[0m \u001b[38;5;66;03m# test\u001b[39;00m\n\u001b[0;32m----> 2\u001b[0m \u001b[43mcomposite\u001b[49m\u001b[38;5;241;43m.\u001b[39;49m\u001b[43mbbox\u001b[49m\u001b[43m(\u001b[49m\u001b[43m)\u001b[49m\n",
      "File \u001b[0;32m~/projects/SketchAgent/svglib/svglib/svg.py:538\u001b[0m, in \u001b[0;36mSVG.bbox\u001b[0;34m(self)\u001b[0m\n\u001b[1;32m    537\u001b[0m \u001b[38;5;28;01mdef\u001b[39;00m \u001b[38;5;21mbbox\u001b[39m(\u001b[38;5;28mself\u001b[39m):\n\u001b[0;32m--> 538\u001b[0m     \u001b[38;5;28;01mreturn\u001b[39;00m union_bbox([path_group\u001b[38;5;241m.\u001b[39mbbox() \u001b[38;5;28;01mfor\u001b[39;00m path_group \u001b[38;5;129;01min\u001b[39;00m \u001b[38;5;28mself\u001b[39m\u001b[38;5;241m.\u001b[39msvg_path_groups])\n",
      "File \u001b[0;32m~/projects/SketchAgent/svglib/svglib/svg.py:538\u001b[0m, in \u001b[0;36m<listcomp>\u001b[0;34m(.0)\u001b[0m\n\u001b[1;32m    537\u001b[0m \u001b[38;5;28;01mdef\u001b[39;00m \u001b[38;5;21mbbox\u001b[39m(\u001b[38;5;28mself\u001b[39m):\n\u001b[0;32m--> 538\u001b[0m     \u001b[38;5;28;01mreturn\u001b[39;00m union_bbox([\u001b[43mpath_group\u001b[49m\u001b[38;5;241;43m.\u001b[39;49m\u001b[43mbbox\u001b[49m\u001b[43m(\u001b[49m\u001b[43m)\u001b[49m \u001b[38;5;28;01mfor\u001b[39;00m path_group \u001b[38;5;129;01min\u001b[39;00m \u001b[38;5;28mself\u001b[39m\u001b[38;5;241m.\u001b[39msvg_path_groups])\n",
      "File \u001b[0;32m~/projects/SketchAgent/svglib/svglib/svg_primitive.py:65\u001b[0m, in \u001b[0;36mSVGPrimitive.bbox\u001b[0;34m(self)\u001b[0m\n\u001b[1;32m     64\u001b[0m \u001b[38;5;28;01mdef\u001b[39;00m \u001b[38;5;21mbbox\u001b[39m(\u001b[38;5;28mself\u001b[39m):\n\u001b[0;32m---> 65\u001b[0m     \u001b[38;5;28;01mraise\u001b[39;00m \u001b[38;5;167;01mNotImplementedError\u001b[39;00m\n",
      "\u001b[0;31mNotImplementedError\u001b[0m: "
     ]
    }
   ],
   "source": [
    "# test\n",
    "composite.bbox()"
   ]
  },
  {
   "cell_type": "code",
   "execution_count": null,
   "metadata": {},
   "outputs": [],
   "source": []
  }
 ],
 "metadata": {
  "kernelspec": {
   "display_name": "sketch_agent",
   "language": "python",
   "name": "python3"
  },
  "language_info": {
   "codemirror_mode": {
    "name": "ipython",
    "version": 3
   },
   "file_extension": ".py",
   "mimetype": "text/x-python",
   "name": "python",
   "nbconvert_exporter": "python",
   "pygments_lexer": "ipython3",
   "version": "3.8.19"
  }
 },
 "nbformat": 4,
 "nbformat_minor": 2
}
