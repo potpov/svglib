{
 "cells": [
  {
   "cell_type": "code",
   "execution_count": null,
   "metadata": {},
   "outputs": [],
   "source": [
    "import json\n",
    "import sys\n",
    "import os\n",
    "from PIL import Image, ImageDraw"
   ]
  },
  {
   "cell_type": "code",
   "execution_count": null,
   "metadata": {},
   "outputs": [],
   "source": [
    "# import the library\n",
    "root_dir = os.path.abspath(os.path.join(os.getcwd(), \"..\"))\n",
    "sys.path.append(root_dir)\n",
    "\n",
    "from svglib.svg import SVG\n",
    "from svglib.geom import Point"
   ]
  },
  {
   "cell_type": "code",
   "execution_count": null,
   "metadata": {},
   "outputs": [],
   "source": [
    "sample_dir = os.path.join(root_dir, \"samples\")\n",
    "coords = json.load(open(os.path.join(sample_dir, \"placing.json\")))  # a file that tells you where to place a series of SVGs in a canvas "
   ]
  },
  {
   "cell_type": "code",
   "execution_count": 57,
   "metadata": {},
   "outputs": [
    {
     "data": {
      "image/jpeg": "[encoded data removed]",
      "image/png": "[encoded data removed]",
      "text/plain": [
       "<PIL.Image.Image image mode=RGB size=128x128>"
      ]
     },
     "execution_count": 57,
     "metadata": {},
     "output_type": "execute_result"
    }
   ],
   "source": [
    "# draw the bounding boxes that tells where to place all the SVGs \n",
    "img = Image.new('RGB', (128, 128), color='white')\n",
    "draw = ImageDraw.Draw(img)\n",
    "for _, c in coords.items():\n",
    "    x, y, x2, y2 = c['bounding_box']\n",
    "    draw.rectangle([x, y, x2, y2], outline=\"black\", fill=None)\n",
    "img"
   ]
  },
  {
   "cell_type": "code",
   "execution_count": 63,
   "metadata": {},
   "outputs": [
    {
     "data": {
      "image/svg+xml": [
       "<svg xmlns=\"http://www.w3.org/2000/svg\" viewBox=\"0.0 0.0 128.0 128.0\" height=\"128\" width=\"128\"><line fill=\"none\" stroke=\"black\" stroke-width=\"1.0\" stroke-opacity=\"1.0\" x1=\"10.0\" y1=\"10.0\" x2=\"118.0\" y2=\"10.0\"/>\n",
       "<line fill=\"none\" stroke=\"black\" stroke-width=\"1.0\" stroke-opacity=\"1.0\" x1=\"118.0\" y1=\"10.0\" x2=\"118.0\" y2=\"118.0\"/>\n",
       "<line fill=\"none\" stroke=\"black\" stroke-width=\"1.0\" stroke-opacity=\"1.0\" x1=\"118.0\" y1=\"118.0\" x2=\"10.0\" y2=\"118.0\"/>\n",
       "<line fill=\"none\" stroke=\"black\" stroke-width=\"1.0\" stroke-opacity=\"1.0\" x1=\"10.0\" y1=\"118.0\" x2=\"10.0\" y2=\"10.0\"/></svg>"
      ],
      "text/plain": [
       "<IPython.core.display.SVG object>"
      ]
     },
     "metadata": {},
     "output_type": "display_data"
    }
   ],
   "source": [
    "# display one SVG\n",
    "svg_path = os.path.join(sample_dir, coords[\"house_body\"][\"file\"])\n",
    "svg = SVG.load_svg(svg_path)\n",
    "svg.draw(do_display=True)"
   ]
  },
  {
   "cell_type": "code",
   "execution_count": 60,
   "metadata": {},
   "outputs": [
    {
     "name": "stdout",
     "output_type": "stream",
     "text": [
      "80 70 0.625 0.546875\n",
      "0.546875 (5, 0)\n"
     ]
    }
   ],
   "source": [
    "# let's take the first square, and scale it to fit its bounding box in the canvas\n",
    "\n",
    "def compute_scale_shift(x1, y1, x2, y2):\n",
    "    orig_w, orig_h = (128, 128)  # the original size of the svg file\n",
    "    new_w, new_h = (x2 - x1, y2 - y1)  # the size of the bounding box\n",
    "    width_ratio = new_w / orig_w\n",
    "    height_ratio = new_h / orig_h\n",
    "    print(new_w, new_h, width_ratio, height_ratio)\n",
    "\n",
    "    # if the bounding box is not square, we need to scale it to the smallest dimension and center it\n",
    "    if width_ratio != height_ratio:\n",
    "        scale_factor = min(width_ratio, height_ratio)\n",
    "        shift = (\n",
    "            abs(new_h - new_w) // 2 if width_ratio > height_ratio else 0, \n",
    "            abs(new_h - new_w) // 2 if height_ratio > width_ratio else 0\n",
    "            )\n",
    "    else: \n",
    "        scale_factor = width_ratio\n",
    "        shift = (0, 0)\n",
    "\n",
    "    return scale_factor, shift\n",
    "\n",
    "\n",
    "(x1, y1, x2, y2) = coords[\"house_body\"][\"bounding_box\"]\n",
    "scale_factor, shift = compute_scale_shift(x1, y1, x2, y2)\n",
    "print(scale_factor, shift)\n"
   ]
  },
  {
   "cell_type": "code",
   "execution_count": 64,
   "metadata": {},
   "outputs": [
    {
     "data": {
      "image/svg+xml": [
       "<svg xmlns=\"http://www.w3.org/2000/svg\" viewBox=\"0.0 0.0 128.0 128.0\" height=\"128\" width=\"128\"><line fill=\"none\" stroke=\"black\" stroke-width=\"1.0\" stroke-opacity=\"1.0\" x1=\"35.0\" y1=\"60.0\" x2=\"143.0\" y2=\"60.0\"/>\n",
       "<line fill=\"none\" stroke=\"black\" stroke-width=\"1.0\" stroke-opacity=\"1.0\" x1=\"143.0\" y1=\"60.0\" x2=\"143.0\" y2=\"168.0\"/>\n",
       "<line fill=\"none\" stroke=\"black\" stroke-width=\"1.0\" stroke-opacity=\"1.0\" x1=\"143.0\" y1=\"168.0\" x2=\"35.0\" y2=\"168.0\"/>\n",
       "<line fill=\"none\" stroke=\"black\" stroke-width=\"1.0\" stroke-opacity=\"1.0\" x1=\"35.0\" y1=\"168.0\" x2=\"35.0\" y2=\"60.0\"/></svg>"
      ],
      "text/plain": [
       "<IPython.core.display.SVG object>"
      ]
     },
     "metadata": {},
     "output_type": "display_data"
    }
   ],
   "source": [
    "# let's now translate everything to the top-left coordinate of the bounding box and add the shift\n",
    "\n",
    "# fist remove the viewBox\n",
    "# svg.translate(-svg.viewbox.center)\n",
    "# svg.draw(do_display=True)\n",
    "svg.translate(Point(x1, y1) + Point(*shift))\n",
    "svg.draw(do_display=True)\n",
    "\n",
    "\n"
   ]
  },
  {
   "cell_type": "code",
   "execution_count": 65,
   "metadata": {},
   "outputs": [
    {
     "data": {
      "image/svg+xml": [
       "<svg xmlns=\"http://www.w3.org/2000/svg\" viewBox=\"0.0 0.0 128.0 128.0\" height=\"128\" width=\"128\"><line fill=\"none\" stroke=\"black\" stroke-width=\"1.0\" stroke-opacity=\"1.0\" x1=\"48.140625\" y1=\"61.8125\" x2=\"107.203125\" y2=\"61.8125\"/>\n",
       "<line fill=\"none\" stroke=\"black\" stroke-width=\"1.0\" stroke-opacity=\"1.0\" x1=\"107.203125\" y1=\"61.8125\" x2=\"107.203125\" y2=\"120.875\"/>\n",
       "<line fill=\"none\" stroke=\"black\" stroke-width=\"1.0\" stroke-opacity=\"1.0\" x1=\"107.203125\" y1=\"120.875\" x2=\"48.140625\" y2=\"120.875\"/>\n",
       "<line fill=\"none\" stroke=\"black\" stroke-width=\"1.0\" stroke-opacity=\"1.0\" x1=\"48.140625\" y1=\"120.875\" x2=\"48.140625\" y2=\"61.8125\"/></svg>"
      ],
      "text/plain": [
       "<IPython.core.display.SVG object>"
      ]
     },
     "metadata": {},
     "output_type": "display_data"
    }
   ],
   "source": [
    "svg.zoom(scale_factor)\n",
    "svg.draw(do_display=True)\n"
   ]
  },
  {
   "cell_type": "code",
   "execution_count": 93,
   "metadata": {},
   "outputs": [],
   "source": [
    "svg = SVG.load_svg(svg_path)"
   ]
  },
  {
   "cell_type": "code",
   "execution_count": 92,
   "metadata": {},
   "outputs": [
    {
     "data": {
      "text/plain": [
       "SVGLine(xy1=P(10.0, 10.0) xy2=P(118.0, 10.0))"
      ]
     },
     "execution_count": 92,
     "metadata": {},
     "output_type": "execute_result"
    }
   ],
   "source": [
    "svg.svg_path_groups[0]"
   ]
  },
  {
   "cell_type": "code",
   "execution_count": null,
   "metadata": {},
   "outputs": [],
   "source": [
    "def merge_svg_files(coordinates, file_dir):\n",
    "    image_size = (128, 128)  # Original image dimensions (width, height)\n",
    "    for key, coords in coordinates.items():\n",
    "        file = coords[\"file\"]\n",
    "        (x1, y1, x2, y2) = coords[\"bounding_box\"]\n",
    "        width_ratio = (x2 - x1) / image_size[0]\n",
    "        height_ratio = (y2 - y1) / image_size[1]\n",
    "        assert width_ratio == height_ratio, \"Width and height ratios should be equal.\"\n",
    "\n",
    "        svg = SVG.load_svg(os.path.join(file_dir, file))\n",
    "        svg.zoom(width_ratio)\n",
    "        \n",
    "        from svglib.geom import Point\n",
    "        target_center = Point(x1, y1)\n",
    "        svg.translate(target_center)\n",
    "\n",
    "        svg.save_svg(os.path.join(file_dir, \"out.svg\"))"
   ]
  }
 ],
 "metadata": {
  "kernelspec": {
   "display_name": "sketch_agent",
   "language": "python",
   "name": "python3"
  },
  "language_info": {
   "codemirror_mode": {
    "name": "ipython",
    "version": 3
   },
   "file_extension": ".py",
   "mimetype": "text/x-python",
   "name": "python",
   "nbconvert_exporter": "python",
   "pygments_lexer": "ipython3",
   "version": "3.8.19"
  }
 },
 "nbformat": 4,
 "nbformat_minor": 2
}
