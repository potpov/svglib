{
 "cells": [
  {
   "cell_type": "markdown",
   "metadata": {},
   "source": [
    "# Place SVG shapes into canvas given bounding boxes "
   ]
  },
  {
   "cell_type": "code",
   "execution_count": 14,
   "metadata": {},
   "outputs": [],
   "source": [
    "import json\n",
    "import sys\n",
    "import os\n",
    "from PIL import Image, ImageDraw"
   ]
  },
  {
   "cell_type": "code",
   "execution_count": 15,
   "metadata": {},
   "outputs": [],
   "source": [
    "# import the library\n",
    "root_dir = os.path.abspath(os.path.join(os.getcwd(), \"..\"))\n",
    "sys.path.append(root_dir)\n",
    "\n",
    "from svglib.svg import SVG\n",
    "from svglib.geom import Point"
   ]
  },
  {
   "cell_type": "code",
   "execution_count": 16,
   "metadata": {},
   "outputs": [],
   "source": [
    "def show(svg_img):\n",
    "    white_bg = Image.new(\"RGBA\", (128, 128), \"WHITE\")\n",
    "    white_bg.paste(\n",
    "        svg_img.draw(return_png=True, do_display=False), \n",
    "        (0, 0), \n",
    "        svg_img.draw(return_png=True, do_display=False)\n",
    "        ) \n",
    "    white_bg.convert(\"RGB\").show()"
   ]
  },
  {
   "cell_type": "code",
   "execution_count": 17,
   "metadata": {},
   "outputs": [],
   "source": [
    "sample_dir = os.path.join(root_dir, \"samples\")\n",
    "# a dict that tells you where to place a series of SVGs in a canvas \n",
    "coords = {\n",
    "    \"house_body\": {\n",
    "      \"file\": \"rect.svg\",\n",
    "      \"bounding_box\": [20, 50, 100, 120]\n",
    "    },\n",
    "    \"window_1\": {\n",
    "      \"file\": \"rect.svg\",\n",
    "      \"bounding_box\": [35, 70, 55, 90]\n",
    "    },\n",
    "    \"window_2\": {\n",
    "      \"file\": \"rect.svg\",\n",
    "      \"bounding_box\": [70, 70, 90, 90]\n",
    "    },\n",
    "    \"roof\": {\n",
    "      \"file\": \"triangle.svg\",\n",
    "      \"bounding_box\": [20, 5, 100, 50]\n",
    "    }\n",
    "  }\n",
    "  "
   ]
  },
  {
   "cell_type": "markdown",
   "metadata": {},
   "source": [
    "## Destination Coordinates\n",
    "We start from a series of SVG shapes and the bounding box of the location where each has to fit.\n",
    "\n",
    "We draw each bounding box on a raster image to get an idea of where all the SVGs should go"
   ]
  },
  {
   "cell_type": "code",
   "execution_count": 18,
   "metadata": {},
   "outputs": [
    {
     "data": {
      "image/jpeg": "[encoded data removed]",
      "image/png": "[encoded data removed]",
      "text/plain": [
       "<PIL.Image.Image image mode=RGB size=128x128>"
      ]
     },
     "execution_count": 18,
     "metadata": {},
     "output_type": "execute_result"
    }
   ],
   "source": [
    "def draw_bboxes(coords):\n",
    "    img = Image.new('RGB', (128, 128), color='white')\n",
    "    draw = ImageDraw.Draw(img)\n",
    "    for _, c in coords.items():\n",
    "        x, y, x2, y2 = c['bounding_box']\n",
    "        draw.rectangle([x, y, x2, y2], outline=\"black\", fill=None)\n",
    "    return img\n",
    "\n",
    "draw_bboxes(coords)"
   ]
  },
  {
   "cell_type": "markdown",
   "metadata": {},
   "source": [
    "## Scaling Factor\n",
    "Each SVG should be scaled to fit its bounding box.\n",
    "\n",
    "By defaul we consider the full size of each original SVG image (128, 128)"
   ]
  },
  {
   "cell_type": "code",
   "execution_count": 19,
   "metadata": {},
   "outputs": [
    {
     "name": "stdout",
     "output_type": "stream",
     "text": [
      "0.625 0.3515625\n"
     ]
    }
   ],
   "source": [
    "# let's take the first square, and scale it to fit its bounding box in the canvas\n",
    "def compute_scale(x1, y1, x2, y2, orig_w=128, orig_h=128):\n",
    "    new_w, new_h = (x2 - x1, y2 - y1)  # the size of the bounding box\n",
    "    width_ratio = new_w / orig_w\n",
    "    height_ratio = new_h / orig_h\n",
    "    return width_ratio, height_ratio\n",
    "\n",
    "(x1, y1, x2, y2) = coords[\"roof\"][\"bounding_box\"]\n",
    "width_ratio, height_ratio = compute_scale(x1, y1, x2, y2)\n",
    "print(width_ratio, height_ratio)\n",
    "scale_factor = min(width_ratio, height_ratio)\n"
   ]
  },
  {
   "cell_type": "markdown",
   "metadata": {},
   "source": [
    "## display one SVG"
   ]
  },
  {
   "cell_type": "code",
   "execution_count": 20,
   "metadata": {},
   "outputs": [
    {
     "data": {
      "image/jpeg": "[encoded data removed]",
      "image/png": "[encoded data removed]",
      "text/plain": [
       "<PIL.Image.Image image mode=RGB size=128x128>"
      ]
     },
     "metadata": {},
     "output_type": "display_data"
    },
    {
     "data": {
      "text/plain": [
       "SVG[Bbox(0.0 0.0 128.0 128.0)](\n",
       "\tSVGLine(xy1=P(64.0, 10.0) xy2=P(110.0, 110.0)),\n",
       "\tSVGLine(xy1=P(110.0, 110.0) xy2=P(18.0, 110.0)),\n",
       "\tSVGLine(xy1=P(18.0, 110.0) xy2=P(64.0, 10.0))\n",
       ")"
      ]
     },
     "execution_count": 20,
     "metadata": {},
     "output_type": "execute_result"
    }
   ],
   "source": [
    "svg_path = os.path.join(sample_dir, coords[\"roof\"][\"file\"])\n",
    "svg = SVG.load_svg(svg_path)\n",
    "show(svg)\n",
    "svg"
   ]
  },
  {
   "cell_type": "markdown",
   "metadata": {},
   "source": [
    "## Scale and Shift\n",
    "Since the scaling factors sx and sy between original image and destination bounding box\n",
    "are not the same, we use minimum scale factor to avoid overflow."
   ]
  },
  {
   "cell_type": "code",
   "execution_count": 21,
   "metadata": {},
   "outputs": [
    {
     "data": {
      "image/jpeg": "[encoded data removed]",
      "image/png": "[encoded data removed]",
      "text/plain": [
       "<PIL.Image.Image image mode=RGB size=128x128>"
      ]
     },
     "metadata": {},
     "output_type": "display_data"
    }
   ],
   "source": [
    "# scaling\n",
    "svg.scale(scale_factor)\n",
    "show(svg)"
   ]
  },
  {
   "cell_type": "code",
   "execution_count": 22,
   "metadata": {},
   "outputs": [
    {
     "data": {
      "image/jpeg": "[encoded data removed]",
      "image/png": "[encoded data removed]",
      "text/plain": [
       "<PIL.Image.Image image mode=RGB size=128x128>"
      ]
     },
     "metadata": {},
     "output_type": "display_data"
    },
    {
     "data": {
      "image/jpeg": "[encoded data removed]",
      "image/png": "[encoded data removed]",
      "text/plain": [
       "<PIL.Image.Image image mode=RGB size=128x128>"
      ]
     },
     "metadata": {},
     "output_type": "display_data"
    }
   ],
   "source": [
    "# let's adjust the shape so that the new center is the center of the bounding box\n",
    "svg.translate(-svg.viewbox.center)\n",
    "show(svg)\n",
    "\n",
    "target_center = Point((x1 + x2) // 2, (y1 + y2) // 2)\n",
    "svg.translate(target_center)\n",
    "show(svg)\n"
   ]
  },
  {
   "cell_type": "markdown",
   "metadata": {},
   "source": [
    "## Apply to all shapes and composite!"
   ]
  },
  {
   "cell_type": "code",
   "execution_count": 23,
   "metadata": {},
   "outputs": [
    {
     "data": {
      "image/jpeg": "[encoded data removed]",
      "image/png": "[encoded data removed]",
      "text/plain": [
       "<PIL.Image.Image image mode=RGB size=128x128>"
      ]
     },
     "metadata": {},
     "output_type": "display_data"
    }
   ],
   "source": [
    "# apply this to every shape in the SVG file\n",
    "composite = SVG([], (128, 128), width=128, height=128)\n",
    "\n",
    "for shape in coords.values():\n",
    "    svg_path = os.path.join(sample_dir, shape[\"file\"])\n",
    "    svg = SVG.load_svg(svg_path)\n",
    "    \n",
    "    (x1, y1, x2, y2) = shape[\"bounding_box\"]\n",
    "    width_ratio, height_ratio = compute_scale(x1, y1, x2, y2)\n",
    "    scale_factor = min(width_ratio, height_ratio)\n",
    "    target_center = Point((x1 + x2) // 2, (y1 + y2) // 2)\n",
    "    \n",
    "    svg.scale(scale_factor)\n",
    "    svg.translate(-svg.viewbox.center)\n",
    "    svg.translate(target_center)\n",
    "    composite = composite + svg \n",
    "    \n",
    "show(composite)"
   ]
  },
  {
   "cell_type": "markdown",
   "metadata": {},
   "source": [
    "## Use both (sx, sy) to scale\n",
    "That is not nice. Now we will use a scaling factor for each dimension, even if it stretches the final image."
   ]
  },
  {
   "cell_type": "code",
   "execution_count": 24,
   "metadata": {},
   "outputs": [
    {
     "data": {
      "image/jpeg": "[encoded data removed]",
      "image/png": "[encoded data removed]",
      "text/plain": [
       "<PIL.Image.Image image mode=RGB size=128x128>"
      ]
     },
     "metadata": {},
     "output_type": "display_data"
    }
   ],
   "source": [
    "composite = SVG([], (128, 128), width=128, height=128)\n",
    "for shape in coords.values():\n",
    "    svg_path = os.path.join(sample_dir, shape[\"file\"])\n",
    "    svg = SVG.load_svg(svg_path)\n",
    "    \n",
    "    (x1, y1, x2, y2) = shape[\"bounding_box\"]\n",
    "    width_ratio, height_ratio = compute_scale(x1, y1, x2, y2)\n",
    "    target_center = Point((x1 + x2) // 2, (y1 + y2) // 2)\n",
    "    \n",
    "    svg.scale((width_ratio, height_ratio))\n",
    "    svg.translate(-svg.viewbox.center)\n",
    "    svg.translate(target_center)\n",
    "    composite = composite + svg \n",
    "    \n",
    "show(composite)"
   ]
  },
  {
   "cell_type": "markdown",
   "metadata": {},
   "source": [
    "## Use the bounding box of the shape\n",
    "We inherit some padding from the original image!\n",
    "\n",
    "Let's compute (sx, sy) using the bounding box that wraps each shape to get the best scaling ratio"
   ]
  },
  {
   "cell_type": "code",
   "execution_count": 25,
   "metadata": {},
   "outputs": [
    {
     "data": {
      "text/plain": [
       "((31.25, 8.015625), (88.75, 43.171875))"
      ]
     },
     "execution_count": 25,
     "metadata": {},
     "output_type": "execute_result"
    }
   ],
   "source": [
    "svg.bbox()"
   ]
  },
  {
   "cell_type": "code",
   "execution_count": 27,
   "metadata": {},
   "outputs": [
    {
     "data": {
      "image/jpeg": "[encoded data removed]",
      "image/png": "[encoded data removed]",
      "text/plain": [
       "<PIL.Image.Image image mode=RGB size=128x128>"
      ]
     },
     "metadata": {},
     "output_type": "display_data"
    }
   ],
   "source": [
    "composite = SVG([], (128, 128), width=128, height=128)\n",
    "\n",
    "for shape in coords.values():\n",
    "    svg_path = os.path.join(sample_dir, shape[\"file\"])\n",
    "    svg = SVG.load_svg(svg_path)\n",
    "    \n",
    "    (x1, y1, x2, y2) = shape[\"bounding_box\"]\n",
    "    (_x1, _y1), (_x2, _y2) = svg.bbox()\n",
    "    \n",
    "    # compute width and height for the box rather than the full image\n",
    "    _w, _h = _x2 - _x1, _y2 - _y1\n",
    "    width_ratio, height_ratio = compute_scale(x1, y1, x2, y2, _w, _h)\n",
    "\n",
    "    target_center = Point((x1 + x2) // 2, (y1 + y2) // 2)\n",
    "    \n",
    "    svg.scale((width_ratio, height_ratio))\n",
    "    svg.translate(-svg.viewbox.center)\n",
    "    svg.translate(target_center)\n",
    "    composite = composite + svg \n",
    "    \n",
    "show(composite)"
   ]
  },
  {
   "cell_type": "markdown",
   "metadata": {},
   "source": [
    "# More examples: A car"
   ]
  },
  {
   "cell_type": "code",
   "execution_count": 28,
   "metadata": {},
   "outputs": [
    {
     "data": {
      "image/jpeg": "[encoded data removed]",
      "image/png": "[encoded data removed]",
      "text/plain": [
       "<PIL.Image.Image image mode=RGB size=128x128>"
      ]
     },
     "execution_count": 28,
     "metadata": {},
     "output_type": "execute_result"
    }
   ],
   "source": [
    "coords = {\n",
    "    \"car_body\": {\n",
    "        \"file\": \"rect.svg\",\n",
    "        \"bounding_box\": [20, 60, 108, 100]  # Main car body\n",
    "    },\n",
    "    \"car_top\": {\n",
    "        \"file\": \"rect.svg\",\n",
    "        \"bounding_box\": [40, 30, 88, 60]  # Smaller top section (like a windshield/cabin)\n",
    "    },\n",
    "    \"wheel_1\": {\n",
    "        \"file\": \"circle.svg\",\n",
    "        \"bounding_box\": [30, 90, 50, 110]  # Left wheel\n",
    "    },\n",
    "    \"wheel_2\": {\n",
    "        \"file\": \"circle.svg\",\n",
    "        \"bounding_box\": [80, 90, 100, 110]  # Right wheel\n",
    "    },\n",
    "    \"front_window\": {\n",
    "        \"file\": \"rect.svg\",\n",
    "        \"bounding_box\": [50, 35, 65, 55]  # Front windshield\n",
    "    },\n",
    "    \"rear_window\": {\n",
    "        \"file\": \"rect.svg\",\n",
    "        \"bounding_box\": [65, 35, 80, 55]  # Rear windshield\n",
    "    }\n",
    "}\n",
    "draw_bboxes(coords)\n"
   ]
  },
  {
   "cell_type": "code",
   "execution_count": 29,
   "metadata": {},
   "outputs": [
    {
     "ename": "AttributeError",
     "evalue": "'SVGCircle' object has no attribute 'fill'",
     "output_type": "error",
     "traceback": [
      "\u001b[0;31m---------------------------------------------------------------------------\u001b[0m",
      "\u001b[0;31mAttributeError\u001b[0m                            Traceback (most recent call last)",
      "Cell \u001b[0;32mIn[29], line 8\u001b[0m\n\u001b[1;32m      5\u001b[0m svg \u001b[38;5;241m=\u001b[39m SVG\u001b[38;5;241m.\u001b[39mload_svg(svg_path)\n\u001b[1;32m      7\u001b[0m (x1, y1, x2, y2) \u001b[38;5;241m=\u001b[39m shape[\u001b[38;5;124m\"\u001b[39m\u001b[38;5;124mbounding_box\u001b[39m\u001b[38;5;124m\"\u001b[39m]\n\u001b[0;32m----> 8\u001b[0m (_x1, _y1), (_x2, _y2) \u001b[38;5;241m=\u001b[39m \u001b[43msvg\u001b[49m\u001b[38;5;241;43m.\u001b[39;49m\u001b[43mbbox\u001b[49m\u001b[43m(\u001b[49m\u001b[43m)\u001b[49m\n\u001b[1;32m     10\u001b[0m \u001b[38;5;66;03m# compute width and height for the box rather than the full image\u001b[39;00m\n\u001b[1;32m     11\u001b[0m _w, _h \u001b[38;5;241m=\u001b[39m _x2 \u001b[38;5;241m-\u001b[39m _x1, _y2 \u001b[38;5;241m-\u001b[39m _y1\n",
      "File \u001b[0;32m~/projects/SketchAgent/svglib/svglib/svg.py:546\u001b[0m, in \u001b[0;36mSVG.bbox\u001b[0;34m(self)\u001b[0m\n\u001b[1;32m    542\u001b[0m \u001b[38;5;28;01mdef\u001b[39;00m \u001b[38;5;21mbbox\u001b[39m(\u001b[38;5;28mself\u001b[39m):\n\u001b[1;32m    543\u001b[0m \u001b[38;5;250m    \u001b[39m\u001b[38;5;124;03m\"\"\"\u001b[39;00m\n\u001b[1;32m    544\u001b[0m \u001b[38;5;124;03m    Returns the bounding box that wraps all the shapes of SVG\u001b[39;00m\n\u001b[1;32m    545\u001b[0m \u001b[38;5;124;03m    \"\"\"\u001b[39;00m\n\u001b[0;32m--> 546\u001b[0m     points \u001b[38;5;241m=\u001b[39m \u001b[38;5;28;43mself\u001b[39;49m\u001b[38;5;241;43m.\u001b[39;49m\u001b[43mto_points\u001b[49m\u001b[43m(\u001b[49m\u001b[43m)\u001b[49m\n\u001b[1;32m    547\u001b[0m     (x1, y1), (x2, y2) \u001b[38;5;241m=\u001b[39m np\u001b[38;5;241m.\u001b[39mmin(points, axis\u001b[38;5;241m=\u001b[39m\u001b[38;5;241m0\u001b[39m), np\u001b[38;5;241m.\u001b[39mmax(points, axis\u001b[38;5;241m=\u001b[39m\u001b[38;5;241m0\u001b[39m)\n\u001b[1;32m    548\u001b[0m     \u001b[38;5;28;01mreturn\u001b[39;00m (x1, y1), (x2, y2)\n",
      "File \u001b[0;32m~/projects/SketchAgent/svglib/svglib/svg.py:613\u001b[0m, in \u001b[0;36mSVG.to_points\u001b[0;34m(self, sort)\u001b[0m\n\u001b[1;32m    612\u001b[0m \u001b[38;5;28;01mdef\u001b[39;00m \u001b[38;5;21mto_points\u001b[39m(\u001b[38;5;28mself\u001b[39m, sort\u001b[38;5;241m=\u001b[39m\u001b[38;5;28;01mTrue\u001b[39;00m):\n\u001b[0;32m--> 613\u001b[0m     points \u001b[38;5;241m=\u001b[39m np\u001b[38;5;241m.\u001b[39mconcatenate([path_group\u001b[38;5;241m.\u001b[39mto_path()\u001b[38;5;241m.\u001b[39mto_points() \u001b[38;5;28;01mfor\u001b[39;00m path_group \u001b[38;5;129;01min\u001b[39;00m \u001b[38;5;28mself\u001b[39m\u001b[38;5;241m.\u001b[39msvg_path_groups])\n\u001b[1;32m    615\u001b[0m     \u001b[38;5;28;01mif\u001b[39;00m sort:\n\u001b[1;32m    616\u001b[0m         ind \u001b[38;5;241m=\u001b[39m np\u001b[38;5;241m.\u001b[39mlexsort((points[:, \u001b[38;5;241m0\u001b[39m], points[:, \u001b[38;5;241m1\u001b[39m]))\n",
      "File \u001b[0;32m~/projects/SketchAgent/svglib/svglib/svg.py:613\u001b[0m, in \u001b[0;36m<listcomp>\u001b[0;34m(.0)\u001b[0m\n\u001b[1;32m    612\u001b[0m \u001b[38;5;28;01mdef\u001b[39;00m \u001b[38;5;21mto_points\u001b[39m(\u001b[38;5;28mself\u001b[39m, sort\u001b[38;5;241m=\u001b[39m\u001b[38;5;28;01mTrue\u001b[39;00m):\n\u001b[0;32m--> 613\u001b[0m     points \u001b[38;5;241m=\u001b[39m np\u001b[38;5;241m.\u001b[39mconcatenate([\u001b[43mpath_group\u001b[49m\u001b[38;5;241;43m.\u001b[39;49m\u001b[43mto_path\u001b[49m\u001b[43m(\u001b[49m\u001b[43m)\u001b[49m\u001b[38;5;241m.\u001b[39mto_points() \u001b[38;5;28;01mfor\u001b[39;00m path_group \u001b[38;5;129;01min\u001b[39;00m \u001b[38;5;28mself\u001b[39m\u001b[38;5;241m.\u001b[39msvg_path_groups])\n\u001b[1;32m    615\u001b[0m     \u001b[38;5;28;01mif\u001b[39;00m sort:\n\u001b[1;32m    616\u001b[0m         ind \u001b[38;5;241m=\u001b[39m np\u001b[38;5;241m.\u001b[39mlexsort((points[:, \u001b[38;5;241m0\u001b[39m], points[:, \u001b[38;5;241m1\u001b[39m]))\n",
      "File \u001b[0;32m~/projects/SketchAgent/svglib/svglib/svg_primitive.py:116\u001b[0m, in \u001b[0;36mSVGEllipse.to_path\u001b[0;34m(self)\u001b[0m\n\u001b[1;32m    109\u001b[0m p2, p3 \u001b[38;5;241m=\u001b[39m \u001b[38;5;28mself\u001b[39m\u001b[38;5;241m.\u001b[39mcenter \u001b[38;5;241m-\u001b[39m \u001b[38;5;28mself\u001b[39m\u001b[38;5;241m.\u001b[39mradius\u001b[38;5;241m.\u001b[39mxproj(), \u001b[38;5;28mself\u001b[39m\u001b[38;5;241m.\u001b[39mcenter \u001b[38;5;241m-\u001b[39m \u001b[38;5;28mself\u001b[39m\u001b[38;5;241m.\u001b[39mradius\u001b[38;5;241m.\u001b[39myproj()\n\u001b[1;32m    110\u001b[0m commands \u001b[38;5;241m=\u001b[39m [\n\u001b[1;32m    111\u001b[0m     SVGCommandArc(p0, \u001b[38;5;28mself\u001b[39m\u001b[38;5;241m.\u001b[39mradius, Angle(\u001b[38;5;241m0.\u001b[39m), Flag(\u001b[38;5;241m0.\u001b[39m), Flag(\u001b[38;5;241m1.\u001b[39m), p1),\n\u001b[1;32m    112\u001b[0m     SVGCommandArc(p1, \u001b[38;5;28mself\u001b[39m\u001b[38;5;241m.\u001b[39mradius, Angle(\u001b[38;5;241m0.\u001b[39m), Flag(\u001b[38;5;241m0.\u001b[39m), Flag(\u001b[38;5;241m1.\u001b[39m), p2),\n\u001b[1;32m    113\u001b[0m     SVGCommandArc(p2, \u001b[38;5;28mself\u001b[39m\u001b[38;5;241m.\u001b[39mradius, Angle(\u001b[38;5;241m0.\u001b[39m), Flag(\u001b[38;5;241m0.\u001b[39m), Flag(\u001b[38;5;241m1.\u001b[39m), p3),\n\u001b[1;32m    114\u001b[0m     SVGCommandArc(p3, \u001b[38;5;28mself\u001b[39m\u001b[38;5;241m.\u001b[39mradius, Angle(\u001b[38;5;241m0.\u001b[39m), Flag(\u001b[38;5;241m0.\u001b[39m), Flag(\u001b[38;5;241m1.\u001b[39m), p0),\n\u001b[1;32m    115\u001b[0m ]\n\u001b[0;32m--> 116\u001b[0m \u001b[38;5;28;01mreturn\u001b[39;00m SVGPath(commands, closed\u001b[38;5;241m=\u001b[39m\u001b[38;5;28;01mTrue\u001b[39;00m)\u001b[38;5;241m.\u001b[39mto_group(fill\u001b[38;5;241m=\u001b[39m\u001b[38;5;28;43mself\u001b[39;49m\u001b[38;5;241;43m.\u001b[39;49m\u001b[43mfill\u001b[49m)\n",
      "\u001b[0;31mAttributeError\u001b[0m: 'SVGCircle' object has no attribute 'fill'"
     ]
    }
   ],
   "source": [
    "composite = SVG([], (128, 128), width=128, height=128)\n",
    "\n",
    "for shape in coords.values():\n",
    "    svg_path = os.path.join(sample_dir, shape[\"file\"])\n",
    "    svg = SVG.load_svg(svg_path)\n",
    "    \n",
    "    (x1, y1, x2, y2) = shape[\"bounding_box\"]\n",
    "    (_x1, _y1), (_x2, _y2) = svg.bbox()\n",
    "    \n",
    "    # compute width and height for the box rather than the full image\n",
    "    _w, _h = _x2 - _x1, _y2 - _y1\n",
    "    width_ratio, height_ratio = compute_scale(x1, y1, x2, y2, _w, _h)\n",
    "\n",
    "    target_center = Point((x1 + x2) // 2, (y1 + y2) // 2)\n",
    "    \n",
    "    svg.scale((width_ratio, height_ratio))\n",
    "    svg.translate(-svg.viewbox.center)\n",
    "    svg.translate(target_center)\n",
    "    composite = composite + svg \n",
    "    \n",
    "show(composite)"
   ]
  },
  {
   "cell_type": "code",
   "execution_count": null,
   "metadata": {},
   "outputs": [],
   "source": []
  }
 ],
 "metadata": {
  "kernelspec": {
   "display_name": "sketch_agent",
   "language": "python",
   "name": "python3"
  },
  "language_info": {
   "codemirror_mode": {
    "name": "ipython",
    "version": 3
   },
   "file_extension": ".py",
   "mimetype": "text/x-python",
   "name": "python",
   "nbconvert_exporter": "python",
   "pygments_lexer": "ipython3",
   "version": "3.8.19"
  }
 },
 "nbformat": 4,
 "nbformat_minor": 2
}
